{
 "cells": [
  {
   "cell_type": "markdown",
   "metadata": {},
   "source": [
    "# Введение"
   ]
  },
  {
   "cell_type": "markdown",
   "metadata": {},
   "source": [
    "Настоящее исследование представляет собой анализ данных о выручке интернет-магазина и результатах A/B-тестирования.\n",
    "\n",
    "**Цель исследования:** подготовка и проверка гипотез для увеличения выручки     \n",
    " **Задачи исследования:**\n",
    "\n",
    "1) приоритизация гипотез;   \n",
    " 2) анализ A/B-теста и интерпретация его результатов.\n",
    " \n",
    "В ходе исследования были предприняты следующие **шаги**:\n",
    "1) анализ и предобработка исходных данных;  \n",
    " 2) приоритизация гипотез с помощью фреймворков ICE и RICE;    \n",
    "  3) анализ результатов A/B-теста: \n",
    "   - анализ кумулятивных показателей: выручки по группам, среднего чека, среднего количества заказов;\n",
    "   - выявление аномальных показателей: количества заказов на одного пользователя и стоимость одного заказа;   \n",
    "   - расчет статистической значимости различий в группах (количество заказов и средний чек) по \"сырым\" данным;\n",
    "   - очистка данных от аномалий;\n",
    "   - расчет статистической значимости различий в группах (количество заказов и средний чек) по \"очищенным\" данным. \n",
    "   \n",
    "4) анализ результатов и подготовка финального вывода."
   ]
  },
  {
   "cell_type": "markdown",
   "metadata": {},
   "source": [
    "##  Предобработка данных"
   ]
  },
  {
   "cell_type": "code",
   "execution_count": 1,
   "metadata": {},
   "outputs": [],
   "source": [
    "#Импортируем необходимые для работы библиотеки\n",
    "\n",
    "import pandas as pd\n",
    "import datetime as dt\n",
    "import numpy as np\n",
    "import scipy.stats as stats\n",
    "from datetime import datetime\n",
    "import math as mth\n",
    "import seaborn as sns\n",
    "import matplotlib.pyplot as plt\n",
    "from pandas.plotting import register_matplotlib_converters\n",
    "import warnings\n",
    "register_matplotlib_converters()"
   ]
  },
  {
   "cell_type": "code",
   "execution_count": 2,
   "metadata": {},
   "outputs": [],
   "source": [
    "#Откроем датасет с гипотезами и сохраним его в переменную data\n",
    "\n",
    "data = pd.read_csv ('/datasets/hypothesis.csv')"
   ]
  },
  {
   "cell_type": "code",
   "execution_count": 3,
   "metadata": {},
   "outputs": [
    {
     "data": {
      "text/html": [
       "<div>\n",
       "<style scoped>\n",
       "    .dataframe tbody tr th:only-of-type {\n",
       "        vertical-align: middle;\n",
       "    }\n",
       "\n",
       "    .dataframe tbody tr th {\n",
       "        vertical-align: top;\n",
       "    }\n",
       "\n",
       "    .dataframe thead th {\n",
       "        text-align: right;\n",
       "    }\n",
       "</style>\n",
       "<table border=\"1\" class=\"dataframe\">\n",
       "  <thead>\n",
       "    <tr style=\"text-align: right;\">\n",
       "      <th></th>\n",
       "      <th>Hypothesis</th>\n",
       "      <th>Reach</th>\n",
       "      <th>Impact</th>\n",
       "      <th>Confidence</th>\n",
       "      <th>Efforts</th>\n",
       "    </tr>\n",
       "  </thead>\n",
       "  <tbody>\n",
       "    <tr>\n",
       "      <th>0</th>\n",
       "      <td>Добавить два новых канала привлечения трафика,...</td>\n",
       "      <td>3</td>\n",
       "      <td>10</td>\n",
       "      <td>8</td>\n",
       "      <td>6</td>\n",
       "    </tr>\n",
       "    <tr>\n",
       "      <th>1</th>\n",
       "      <td>Запустить собственную службу доставки, что сок...</td>\n",
       "      <td>2</td>\n",
       "      <td>5</td>\n",
       "      <td>4</td>\n",
       "      <td>10</td>\n",
       "    </tr>\n",
       "    <tr>\n",
       "      <th>2</th>\n",
       "      <td>Добавить блоки рекомендаций товаров на сайт ин...</td>\n",
       "      <td>8</td>\n",
       "      <td>3</td>\n",
       "      <td>7</td>\n",
       "      <td>3</td>\n",
       "    </tr>\n",
       "    <tr>\n",
       "      <th>3</th>\n",
       "      <td>Изменить структура категорий, что увеличит кон...</td>\n",
       "      <td>8</td>\n",
       "      <td>3</td>\n",
       "      <td>3</td>\n",
       "      <td>8</td>\n",
       "    </tr>\n",
       "    <tr>\n",
       "      <th>4</th>\n",
       "      <td>Изменить цвет фона главной страницы, чтобы уве...</td>\n",
       "      <td>3</td>\n",
       "      <td>1</td>\n",
       "      <td>1</td>\n",
       "      <td>1</td>\n",
       "    </tr>\n",
       "    <tr>\n",
       "      <th>5</th>\n",
       "      <td>Добавить страницу отзывов клиентов о магазине,...</td>\n",
       "      <td>3</td>\n",
       "      <td>2</td>\n",
       "      <td>2</td>\n",
       "      <td>3</td>\n",
       "    </tr>\n",
       "    <tr>\n",
       "      <th>6</th>\n",
       "      <td>Показать на главной странице баннеры с актуаль...</td>\n",
       "      <td>5</td>\n",
       "      <td>3</td>\n",
       "      <td>8</td>\n",
       "      <td>3</td>\n",
       "    </tr>\n",
       "    <tr>\n",
       "      <th>7</th>\n",
       "      <td>Добавить форму подписки на все основные страни...</td>\n",
       "      <td>10</td>\n",
       "      <td>7</td>\n",
       "      <td>8</td>\n",
       "      <td>5</td>\n",
       "    </tr>\n",
       "    <tr>\n",
       "      <th>8</th>\n",
       "      <td>Запустить акцию, дающую скидку на товар в день...</td>\n",
       "      <td>1</td>\n",
       "      <td>9</td>\n",
       "      <td>9</td>\n",
       "      <td>5</td>\n",
       "    </tr>\n",
       "  </tbody>\n",
       "</table>\n",
       "</div>"
      ],
      "text/plain": [
       "                                          Hypothesis  Reach  Impact  \\\n",
       "0  Добавить два новых канала привлечения трафика,...      3      10   \n",
       "1  Запустить собственную службу доставки, что сок...      2       5   \n",
       "2  Добавить блоки рекомендаций товаров на сайт ин...      8       3   \n",
       "3  Изменить структура категорий, что увеличит кон...      8       3   \n",
       "4  Изменить цвет фона главной страницы, чтобы уве...      3       1   \n",
       "5  Добавить страницу отзывов клиентов о магазине,...      3       2   \n",
       "6  Показать на главной странице баннеры с актуаль...      5       3   \n",
       "7  Добавить форму подписки на все основные страни...     10       7   \n",
       "8  Запустить акцию, дающую скидку на товар в день...      1       9   \n",
       "\n",
       "   Confidence  Efforts  \n",
       "0           8        6  \n",
       "1           4       10  \n",
       "2           7        3  \n",
       "3           3        8  \n",
       "4           1        1  \n",
       "5           2        3  \n",
       "6           8        3  \n",
       "7           8        5  \n",
       "8           9        5  "
      ]
     },
     "metadata": {},
     "output_type": "display_data"
    }
   ],
   "source": [
    "#Выведем на экран первые 10 строк датасета data и ознакомимся с его структурой\n",
    "\n",
    "#Hypothesis — краткое описание гипотезы;\n",
    "#Reach — охват пользователей по 10-балльной шкале;\n",
    "#Impact — влияние на пользователей по 10-балльной шкале;\n",
    "#Confidence — уверенность в гипотезе по 10-балльной шкале;\n",
    "#Efforts — затраты ресурсов на проверку гипотезы по 10-балльной шкале. Чем больше значение Efforts, тем дороже проверка гипотезы.\n",
    "\n",
    "\n",
    "display (data.head (10))\n",
    "pd.options.display.max_colwidth = 210"
   ]
  },
  {
   "cell_type": "code",
   "execution_count": 4,
   "metadata": {},
   "outputs": [
    {
     "name": "stdout",
     "output_type": "stream",
     "text": [
      "Index(['hypothesis', 'reach', 'impact', 'confidence', 'efforts'], dtype='object')\n"
     ]
    }
   ],
   "source": [
    "# Приведем названия столбцов к единому регистру:\n",
    "\n",
    "data.columns = data.columns.str.lower()\n",
    "print (data.columns)"
   ]
  },
  {
   "cell_type": "code",
   "execution_count": 5,
   "metadata": {},
   "outputs": [],
   "source": [
    "#Откроем датасеты с результатами A/B-теста и сохраним их в переменныу orders и visitors\n",
    "\n",
    "orders = pd.read_csv ('/datasets/orders.csv')\n",
    "visitors = pd.read_csv ('/datasets/visitors.csv')"
   ]
  },
  {
   "cell_type": "code",
   "execution_count": 6,
   "metadata": {},
   "outputs": [
    {
     "data": {
      "text/html": [
       "<div>\n",
       "<style scoped>\n",
       "    .dataframe tbody tr th:only-of-type {\n",
       "        vertical-align: middle;\n",
       "    }\n",
       "\n",
       "    .dataframe tbody tr th {\n",
       "        vertical-align: top;\n",
       "    }\n",
       "\n",
       "    .dataframe thead th {\n",
       "        text-align: right;\n",
       "    }\n",
       "</style>\n",
       "<table border=\"1\" class=\"dataframe\">\n",
       "  <thead>\n",
       "    <tr style=\"text-align: right;\">\n",
       "      <th></th>\n",
       "      <th>transactionId</th>\n",
       "      <th>visitorId</th>\n",
       "      <th>date</th>\n",
       "      <th>revenue</th>\n",
       "      <th>group</th>\n",
       "    </tr>\n",
       "  </thead>\n",
       "  <tbody>\n",
       "    <tr>\n",
       "      <th>0</th>\n",
       "      <td>3667963787</td>\n",
       "      <td>3312258926</td>\n",
       "      <td>2019-08-15</td>\n",
       "      <td>1650</td>\n",
       "      <td>B</td>\n",
       "    </tr>\n",
       "    <tr>\n",
       "      <th>1</th>\n",
       "      <td>2804400009</td>\n",
       "      <td>3642806036</td>\n",
       "      <td>2019-08-15</td>\n",
       "      <td>730</td>\n",
       "      <td>B</td>\n",
       "    </tr>\n",
       "    <tr>\n",
       "      <th>2</th>\n",
       "      <td>2961555356</td>\n",
       "      <td>4069496402</td>\n",
       "      <td>2019-08-15</td>\n",
       "      <td>400</td>\n",
       "      <td>A</td>\n",
       "    </tr>\n",
       "    <tr>\n",
       "      <th>3</th>\n",
       "      <td>3797467345</td>\n",
       "      <td>1196621759</td>\n",
       "      <td>2019-08-15</td>\n",
       "      <td>9759</td>\n",
       "      <td>B</td>\n",
       "    </tr>\n",
       "    <tr>\n",
       "      <th>4</th>\n",
       "      <td>2282983706</td>\n",
       "      <td>2322279887</td>\n",
       "      <td>2019-08-15</td>\n",
       "      <td>2308</td>\n",
       "      <td>B</td>\n",
       "    </tr>\n",
       "    <tr>\n",
       "      <th>5</th>\n",
       "      <td>182168103</td>\n",
       "      <td>935554773</td>\n",
       "      <td>2019-08-15</td>\n",
       "      <td>2210</td>\n",
       "      <td>B</td>\n",
       "    </tr>\n",
       "    <tr>\n",
       "      <th>6</th>\n",
       "      <td>398296753</td>\n",
       "      <td>2900797465</td>\n",
       "      <td>2019-08-15</td>\n",
       "      <td>1860</td>\n",
       "      <td>B</td>\n",
       "    </tr>\n",
       "    <tr>\n",
       "      <th>7</th>\n",
       "      <td>2626614568</td>\n",
       "      <td>78758296</td>\n",
       "      <td>2019-08-15</td>\n",
       "      <td>1044</td>\n",
       "      <td>A</td>\n",
       "    </tr>\n",
       "    <tr>\n",
       "      <th>8</th>\n",
       "      <td>1576988021</td>\n",
       "      <td>295230930</td>\n",
       "      <td>2019-08-15</td>\n",
       "      <td>13710</td>\n",
       "      <td>A</td>\n",
       "    </tr>\n",
       "    <tr>\n",
       "      <th>9</th>\n",
       "      <td>1506739906</td>\n",
       "      <td>1882260405</td>\n",
       "      <td>2019-08-15</td>\n",
       "      <td>1855</td>\n",
       "      <td>B</td>\n",
       "    </tr>\n",
       "  </tbody>\n",
       "</table>\n",
       "</div>"
      ],
      "text/plain": [
       "   transactionId   visitorId        date  revenue group\n",
       "0     3667963787  3312258926  2019-08-15     1650     B\n",
       "1     2804400009  3642806036  2019-08-15      730     B\n",
       "2     2961555356  4069496402  2019-08-15      400     A\n",
       "3     3797467345  1196621759  2019-08-15     9759     B\n",
       "4     2282983706  2322279887  2019-08-15     2308     B\n",
       "5      182168103   935554773  2019-08-15     2210     B\n",
       "6      398296753  2900797465  2019-08-15     1860     B\n",
       "7     2626614568    78758296  2019-08-15     1044     A\n",
       "8     1576988021   295230930  2019-08-15    13710     A\n",
       "9     1506739906  1882260405  2019-08-15     1855     B"
      ]
     },
     "metadata": {},
     "output_type": "display_data"
    },
    {
     "name": "stdout",
     "output_type": "stream",
     "text": [
      "<class 'pandas.core.frame.DataFrame'>\n",
      "RangeIndex: 1197 entries, 0 to 1196\n",
      "Data columns (total 5 columns):\n",
      " #   Column         Non-Null Count  Dtype \n",
      "---  ------         --------------  ----- \n",
      " 0   transactionId  1197 non-null   int64 \n",
      " 1   visitorId      1197 non-null   int64 \n",
      " 2   date           1197 non-null   object\n",
      " 3   revenue        1197 non-null   int64 \n",
      " 4   group          1197 non-null   object\n",
      "dtypes: int64(3), object(2)\n",
      "memory usage: 46.9+ KB\n"
     ]
    },
    {
     "data": {
      "text/plain": [
       "None"
      ]
     },
     "metadata": {},
     "output_type": "display_data"
    }
   ],
   "source": [
    "#Выведем на экран первые 10 строк датасета orders и ознакомимся с его структурой\n",
    "\n",
    "#transactionId — идентификатор заказа;\n",
    "#visitorId — идентификатор пользователя, совершившего заказ;\n",
    "#date — дата, когда был совершён заказ;\n",
    "#revenue — выручка заказа;\n",
    "#group — группа A/B-теста, в которую попал заказ.\n",
    "\n",
    "display (orders.head(10))\n",
    "display (orders.info())"
   ]
  },
  {
   "cell_type": "code",
   "execution_count": 7,
   "metadata": {},
   "outputs": [],
   "source": [
    "# Приведем данные в столбце date к корректному типу:\n",
    "\n",
    "orders['date'] = pd.to_datetime(orders['date'])"
   ]
  },
  {
   "cell_type": "code",
   "execution_count": 8,
   "metadata": {},
   "outputs": [
    {
     "name": "stdout",
     "output_type": "stream",
     "text": [
      "transactionId    0\n",
      "visitorId        0\n",
      "date             0\n",
      "revenue          0\n",
      "group            0\n",
      "dtype: int64\n"
     ]
    }
   ],
   "source": [
    "#Выведем на экран количество пропусков в датасете:\n",
    "\n",
    "print (orders.isnull().sum())"
   ]
  },
  {
   "cell_type": "code",
   "execution_count": 9,
   "metadata": {},
   "outputs": [
    {
     "data": {
      "text/html": [
       "<div>\n",
       "<style scoped>\n",
       "    .dataframe tbody tr th:only-of-type {\n",
       "        vertical-align: middle;\n",
       "    }\n",
       "\n",
       "    .dataframe tbody tr th {\n",
       "        vertical-align: top;\n",
       "    }\n",
       "\n",
       "    .dataframe thead th {\n",
       "        text-align: right;\n",
       "    }\n",
       "</style>\n",
       "<table border=\"1\" class=\"dataframe\">\n",
       "  <thead>\n",
       "    <tr style=\"text-align: right;\">\n",
       "      <th></th>\n",
       "      <th>date</th>\n",
       "      <th>group</th>\n",
       "      <th>visitors</th>\n",
       "    </tr>\n",
       "  </thead>\n",
       "  <tbody>\n",
       "    <tr>\n",
       "      <th>0</th>\n",
       "      <td>2019-08-01</td>\n",
       "      <td>A</td>\n",
       "      <td>719</td>\n",
       "    </tr>\n",
       "    <tr>\n",
       "      <th>1</th>\n",
       "      <td>2019-08-02</td>\n",
       "      <td>A</td>\n",
       "      <td>619</td>\n",
       "    </tr>\n",
       "    <tr>\n",
       "      <th>2</th>\n",
       "      <td>2019-08-03</td>\n",
       "      <td>A</td>\n",
       "      <td>507</td>\n",
       "    </tr>\n",
       "    <tr>\n",
       "      <th>3</th>\n",
       "      <td>2019-08-04</td>\n",
       "      <td>A</td>\n",
       "      <td>717</td>\n",
       "    </tr>\n",
       "    <tr>\n",
       "      <th>4</th>\n",
       "      <td>2019-08-05</td>\n",
       "      <td>A</td>\n",
       "      <td>756</td>\n",
       "    </tr>\n",
       "    <tr>\n",
       "      <th>5</th>\n",
       "      <td>2019-08-06</td>\n",
       "      <td>A</td>\n",
       "      <td>667</td>\n",
       "    </tr>\n",
       "    <tr>\n",
       "      <th>6</th>\n",
       "      <td>2019-08-07</td>\n",
       "      <td>A</td>\n",
       "      <td>644</td>\n",
       "    </tr>\n",
       "    <tr>\n",
       "      <th>7</th>\n",
       "      <td>2019-08-08</td>\n",
       "      <td>A</td>\n",
       "      <td>610</td>\n",
       "    </tr>\n",
       "    <tr>\n",
       "      <th>8</th>\n",
       "      <td>2019-08-09</td>\n",
       "      <td>A</td>\n",
       "      <td>617</td>\n",
       "    </tr>\n",
       "    <tr>\n",
       "      <th>9</th>\n",
       "      <td>2019-08-10</td>\n",
       "      <td>A</td>\n",
       "      <td>406</td>\n",
       "    </tr>\n",
       "  </tbody>\n",
       "</table>\n",
       "</div>"
      ],
      "text/plain": [
       "         date group  visitors\n",
       "0  2019-08-01     A       719\n",
       "1  2019-08-02     A       619\n",
       "2  2019-08-03     A       507\n",
       "3  2019-08-04     A       717\n",
       "4  2019-08-05     A       756\n",
       "5  2019-08-06     A       667\n",
       "6  2019-08-07     A       644\n",
       "7  2019-08-08     A       610\n",
       "8  2019-08-09     A       617\n",
       "9  2019-08-10     A       406"
      ]
     },
     "metadata": {},
     "output_type": "display_data"
    },
    {
     "name": "stdout",
     "output_type": "stream",
     "text": [
      "<class 'pandas.core.frame.DataFrame'>\n",
      "RangeIndex: 62 entries, 0 to 61\n",
      "Data columns (total 3 columns):\n",
      " #   Column    Non-Null Count  Dtype \n",
      "---  ------    --------------  ----- \n",
      " 0   date      62 non-null     object\n",
      " 1   group     62 non-null     object\n",
      " 2   visitors  62 non-null     int64 \n",
      "dtypes: int64(1), object(2)\n",
      "memory usage: 1.6+ KB\n"
     ]
    },
    {
     "data": {
      "text/plain": [
       "None"
      ]
     },
     "metadata": {},
     "output_type": "display_data"
    }
   ],
   "source": [
    "#Выведем на экран первые 10 строк датасета visitors и ознакомимся с его структурой\n",
    "\n",
    "#date — дата;\n",
    "#group — группа A/B-теста;\n",
    "#visitors — количество пользователей в указанную дату в указанной группе A/B-теста\n",
    "\n",
    "display (visitors.head(10))\n",
    "display (visitors.info())"
   ]
  },
  {
   "cell_type": "code",
   "execution_count": 10,
   "metadata": {},
   "outputs": [],
   "source": [
    "# Приведем данные в столбце date к корректному типу:\n",
    "\n",
    "visitors['date'] = pd.to_datetime(visitors['date'])"
   ]
  },
  {
   "cell_type": "code",
   "execution_count": 11,
   "metadata": {},
   "outputs": [
    {
     "name": "stdout",
     "output_type": "stream",
     "text": [
      "date        0\n",
      "group       0\n",
      "visitors    0\n",
      "dtype: int64\n"
     ]
    }
   ],
   "source": [
    "#Выведем на экран количество пропусков в датасете:\n",
    "\n",
    "print (visitors.isnull().sum())"
   ]
  },
  {
   "cell_type": "code",
   "execution_count": 12,
   "metadata": {},
   "outputs": [
    {
     "name": "stdout",
     "output_type": "stream",
     "text": [
      "['B' 'A']\n",
      "['A' 'B']\n"
     ]
    }
   ],
   "source": [
    "# проверим количество групп в тесте:\n",
    "\n",
    "print (orders['group'].unique())\n",
    "print (visitors['group'].unique())"
   ]
  },
  {
   "cell_type": "code",
   "execution_count": 13,
   "metadata": {},
   "outputs": [
    {
     "name": "stdout",
     "output_type": "stream",
     "text": [
      "2019-08-31 00:00:00\n",
      "2019-08-01 00:00:00\n"
     ]
    }
   ],
   "source": [
    "# проверим даты начала и окончания теста\n",
    "\n",
    "print (max (orders['date']))\n",
    "print (min (orders['date']))"
   ]
  },
  {
   "cell_type": "code",
   "execution_count": 14,
   "metadata": {},
   "outputs": [
    {
     "name": "stdout",
     "output_type": "stream",
     "text": [
      "Количество пользователей в группе А: 503\n",
      "Количество пользователей в группе B: 586\n",
      "Общее число пользователей: 1031\n"
     ]
    }
   ],
   "source": [
    "# посмотрим на число уникальных пользователей в каждой из групп:\n",
    "\n",
    "print ('Количество пользователей в группе А:', orders[orders['group']=='A']['visitorId'].nunique())\n",
    "print ('Количество пользователей в группе B:', orders[orders['group']=='B']['visitorId'].nunique())\n",
    "print ('Общее число пользователей:', orders ['visitorId'].nunique())"
   ]
  },
  {
   "cell_type": "code",
   "execution_count": 15,
   "metadata": {},
   "outputs": [
    {
     "data": {
      "text/plain": [
       "58"
      ]
     },
     "execution_count": 15,
     "metadata": {},
     "output_type": "execute_result"
    }
   ],
   "source": [
    "#Выведем на экран Id пользователей, которые попали в обе группы :\n",
    "\n",
    "len (np.intersect1d([orders[orders['group']=='A']['visitorId'].unique()],[orders[orders['group']=='B']['visitorId'].unique()]))\n",
    " "
   ]
  },
  {
   "cell_type": "markdown",
   "metadata": {},
   "source": [
    "Мы видим, что во-первых, в группе В на 83 человека больше, чем в группе А. Во-вторых, есть 58 пользователей, попавших и в одну, и в другую группу, однако это представляется допустимым, поскольку это менее 1% от общего числа пользователей."
   ]
  },
  {
   "cell_type": "markdown",
   "metadata": {},
   "source": [
    "## Приоритизация гипотез"
   ]
  },
  {
   "cell_type": "markdown",
   "metadata": {},
   "source": [
    "### Применим фреймворк ICE для приоритизации гипотез"
   ]
  },
  {
   "cell_type": "code",
   "execution_count": 16,
   "metadata": {},
   "outputs": [
    {
     "data": {
      "text/html": [
       "<div>\n",
       "<style scoped>\n",
       "    .dataframe tbody tr th:only-of-type {\n",
       "        vertical-align: middle;\n",
       "    }\n",
       "\n",
       "    .dataframe tbody tr th {\n",
       "        vertical-align: top;\n",
       "    }\n",
       "\n",
       "    .dataframe thead th {\n",
       "        text-align: right;\n",
       "    }\n",
       "</style>\n",
       "<table border=\"1\" class=\"dataframe\">\n",
       "  <thead>\n",
       "    <tr style=\"text-align: right;\">\n",
       "      <th></th>\n",
       "      <th>hypothesis</th>\n",
       "      <th>reach</th>\n",
       "      <th>impact</th>\n",
       "      <th>confidence</th>\n",
       "      <th>efforts</th>\n",
       "      <th>ICE</th>\n",
       "    </tr>\n",
       "  </thead>\n",
       "  <tbody>\n",
       "    <tr>\n",
       "      <th>0</th>\n",
       "      <td>Добавить два новых канала привлечения трафика, что позволит привлекать на 30% больше пользователей</td>\n",
       "      <td>3</td>\n",
       "      <td>10</td>\n",
       "      <td>8</td>\n",
       "      <td>6</td>\n",
       "      <td>13.33</td>\n",
       "    </tr>\n",
       "    <tr>\n",
       "      <th>1</th>\n",
       "      <td>Запустить собственную службу доставки, что сократит срок доставки заказов</td>\n",
       "      <td>2</td>\n",
       "      <td>5</td>\n",
       "      <td>4</td>\n",
       "      <td>10</td>\n",
       "      <td>2.00</td>\n",
       "    </tr>\n",
       "    <tr>\n",
       "      <th>2</th>\n",
       "      <td>Добавить блоки рекомендаций товаров на сайт интернет магазина, чтобы повысить конверсию и средний чек заказа</td>\n",
       "      <td>8</td>\n",
       "      <td>3</td>\n",
       "      <td>7</td>\n",
       "      <td>3</td>\n",
       "      <td>7.00</td>\n",
       "    </tr>\n",
       "    <tr>\n",
       "      <th>3</th>\n",
       "      <td>Изменить структура категорий, что увеличит конверсию, т.к. пользователи быстрее найдут нужный товар</td>\n",
       "      <td>8</td>\n",
       "      <td>3</td>\n",
       "      <td>3</td>\n",
       "      <td>8</td>\n",
       "      <td>1.12</td>\n",
       "    </tr>\n",
       "    <tr>\n",
       "      <th>4</th>\n",
       "      <td>Изменить цвет фона главной страницы, чтобы увеличить вовлеченность пользователей</td>\n",
       "      <td>3</td>\n",
       "      <td>1</td>\n",
       "      <td>1</td>\n",
       "      <td>1</td>\n",
       "      <td>1.00</td>\n",
       "    </tr>\n",
       "    <tr>\n",
       "      <th>5</th>\n",
       "      <td>Добавить страницу отзывов клиентов о магазине, что позволит увеличить количество заказов</td>\n",
       "      <td>3</td>\n",
       "      <td>2</td>\n",
       "      <td>2</td>\n",
       "      <td>3</td>\n",
       "      <td>1.33</td>\n",
       "    </tr>\n",
       "    <tr>\n",
       "      <th>6</th>\n",
       "      <td>Показать на главной странице баннеры с актуальными акциями и распродажами, чтобы увеличить конверсию</td>\n",
       "      <td>5</td>\n",
       "      <td>3</td>\n",
       "      <td>8</td>\n",
       "      <td>3</td>\n",
       "      <td>8.00</td>\n",
       "    </tr>\n",
       "    <tr>\n",
       "      <th>7</th>\n",
       "      <td>Добавить форму подписки на все основные страницы, чтобы собрать базу клиентов для email-рассылок</td>\n",
       "      <td>10</td>\n",
       "      <td>7</td>\n",
       "      <td>8</td>\n",
       "      <td>5</td>\n",
       "      <td>11.20</td>\n",
       "    </tr>\n",
       "    <tr>\n",
       "      <th>8</th>\n",
       "      <td>Запустить акцию, дающую скидку на товар в день рождения</td>\n",
       "      <td>1</td>\n",
       "      <td>9</td>\n",
       "      <td>9</td>\n",
       "      <td>5</td>\n",
       "      <td>16.20</td>\n",
       "    </tr>\n",
       "  </tbody>\n",
       "</table>\n",
       "</div>"
      ],
      "text/plain": [
       "                                                                                                     hypothesis  \\\n",
       "0            Добавить два новых канала привлечения трафика, что позволит привлекать на 30% больше пользователей   \n",
       "1                                     Запустить собственную службу доставки, что сократит срок доставки заказов   \n",
       "2  Добавить блоки рекомендаций товаров на сайт интернет магазина, чтобы повысить конверсию и средний чек заказа   \n",
       "3           Изменить структура категорий, что увеличит конверсию, т.к. пользователи быстрее найдут нужный товар   \n",
       "4                              Изменить цвет фона главной страницы, чтобы увеличить вовлеченность пользователей   \n",
       "5                      Добавить страницу отзывов клиентов о магазине, что позволит увеличить количество заказов   \n",
       "6          Показать на главной странице баннеры с актуальными акциями и распродажами, чтобы увеличить конверсию   \n",
       "7              Добавить форму подписки на все основные страницы, чтобы собрать базу клиентов для email-рассылок   \n",
       "8                                                       Запустить акцию, дающую скидку на товар в день рождения   \n",
       "\n",
       "   reach  impact  confidence  efforts    ICE  \n",
       "0      3      10           8        6  13.33  \n",
       "1      2       5           4       10   2.00  \n",
       "2      8       3           7        3   7.00  \n",
       "3      8       3           3        8   1.12  \n",
       "4      3       1           1        1   1.00  \n",
       "5      3       2           2        3   1.33  \n",
       "6      5       3           8        3   8.00  \n",
       "7     10       7           8        5  11.20  \n",
       "8      1       9           9        5  16.20  "
      ]
     },
     "metadata": {},
     "output_type": "display_data"
    }
   ],
   "source": [
    "# Рассчитаем значение ICE для каждой из гипотез и добавим его знчение в датасет отдельным столбцом: \n",
    "\n",
    "data ['ICE'] = round (data ['impact'] * data['confidence'] / data['efforts'], 2) \n",
    "display (data)\n",
    "\n",
    "pd.options.display.max_colwidth = 210"
   ]
  },
  {
   "cell_type": "code",
   "execution_count": 17,
   "metadata": {},
   "outputs": [
    {
     "data": {
      "text/html": [
       "<div>\n",
       "<style scoped>\n",
       "    .dataframe tbody tr th:only-of-type {\n",
       "        vertical-align: middle;\n",
       "    }\n",
       "\n",
       "    .dataframe tbody tr th {\n",
       "        vertical-align: top;\n",
       "    }\n",
       "\n",
       "    .dataframe thead th {\n",
       "        text-align: right;\n",
       "    }\n",
       "</style>\n",
       "<table border=\"1\" class=\"dataframe\">\n",
       "  <thead>\n",
       "    <tr style=\"text-align: right;\">\n",
       "      <th></th>\n",
       "      <th>hypothesis</th>\n",
       "      <th>reach</th>\n",
       "      <th>impact</th>\n",
       "      <th>confidence</th>\n",
       "      <th>efforts</th>\n",
       "      <th>ICE</th>\n",
       "    </tr>\n",
       "  </thead>\n",
       "  <tbody>\n",
       "    <tr>\n",
       "      <th>8</th>\n",
       "      <td>Запустить акцию, дающую скидку на товар в день рождения</td>\n",
       "      <td>1</td>\n",
       "      <td>9</td>\n",
       "      <td>9</td>\n",
       "      <td>5</td>\n",
       "      <td>16.20</td>\n",
       "    </tr>\n",
       "    <tr>\n",
       "      <th>0</th>\n",
       "      <td>Добавить два новых канала привлечения трафика, что позволит привлекать на 30% больше пользователей</td>\n",
       "      <td>3</td>\n",
       "      <td>10</td>\n",
       "      <td>8</td>\n",
       "      <td>6</td>\n",
       "      <td>13.33</td>\n",
       "    </tr>\n",
       "    <tr>\n",
       "      <th>7</th>\n",
       "      <td>Добавить форму подписки на все основные страницы, чтобы собрать базу клиентов для email-рассылок</td>\n",
       "      <td>10</td>\n",
       "      <td>7</td>\n",
       "      <td>8</td>\n",
       "      <td>5</td>\n",
       "      <td>11.20</td>\n",
       "    </tr>\n",
       "    <tr>\n",
       "      <th>6</th>\n",
       "      <td>Показать на главной странице баннеры с актуальными акциями и распродажами, чтобы увеличить конверсию</td>\n",
       "      <td>5</td>\n",
       "      <td>3</td>\n",
       "      <td>8</td>\n",
       "      <td>3</td>\n",
       "      <td>8.00</td>\n",
       "    </tr>\n",
       "    <tr>\n",
       "      <th>2</th>\n",
       "      <td>Добавить блоки рекомендаций товаров на сайт интернет магазина, чтобы повысить конверсию и средний чек заказа</td>\n",
       "      <td>8</td>\n",
       "      <td>3</td>\n",
       "      <td>7</td>\n",
       "      <td>3</td>\n",
       "      <td>7.00</td>\n",
       "    </tr>\n",
       "    <tr>\n",
       "      <th>1</th>\n",
       "      <td>Запустить собственную службу доставки, что сократит срок доставки заказов</td>\n",
       "      <td>2</td>\n",
       "      <td>5</td>\n",
       "      <td>4</td>\n",
       "      <td>10</td>\n",
       "      <td>2.00</td>\n",
       "    </tr>\n",
       "    <tr>\n",
       "      <th>5</th>\n",
       "      <td>Добавить страницу отзывов клиентов о магазине, что позволит увеличить количество заказов</td>\n",
       "      <td>3</td>\n",
       "      <td>2</td>\n",
       "      <td>2</td>\n",
       "      <td>3</td>\n",
       "      <td>1.33</td>\n",
       "    </tr>\n",
       "    <tr>\n",
       "      <th>3</th>\n",
       "      <td>Изменить структура категорий, что увеличит конверсию, т.к. пользователи быстрее найдут нужный товар</td>\n",
       "      <td>8</td>\n",
       "      <td>3</td>\n",
       "      <td>3</td>\n",
       "      <td>8</td>\n",
       "      <td>1.12</td>\n",
       "    </tr>\n",
       "    <tr>\n",
       "      <th>4</th>\n",
       "      <td>Изменить цвет фона главной страницы, чтобы увеличить вовлеченность пользователей</td>\n",
       "      <td>3</td>\n",
       "      <td>1</td>\n",
       "      <td>1</td>\n",
       "      <td>1</td>\n",
       "      <td>1.00</td>\n",
       "    </tr>\n",
       "  </tbody>\n",
       "</table>\n",
       "</div>"
      ],
      "text/plain": [
       "                                                                                                     hypothesis  \\\n",
       "8                                                       Запустить акцию, дающую скидку на товар в день рождения   \n",
       "0            Добавить два новых канала привлечения трафика, что позволит привлекать на 30% больше пользователей   \n",
       "7              Добавить форму подписки на все основные страницы, чтобы собрать базу клиентов для email-рассылок   \n",
       "6          Показать на главной странице баннеры с актуальными акциями и распродажами, чтобы увеличить конверсию   \n",
       "2  Добавить блоки рекомендаций товаров на сайт интернет магазина, чтобы повысить конверсию и средний чек заказа   \n",
       "1                                     Запустить собственную службу доставки, что сократит срок доставки заказов   \n",
       "5                      Добавить страницу отзывов клиентов о магазине, что позволит увеличить количество заказов   \n",
       "3           Изменить структура категорий, что увеличит конверсию, т.к. пользователи быстрее найдут нужный товар   \n",
       "4                              Изменить цвет фона главной страницы, чтобы увеличить вовлеченность пользователей   \n",
       "\n",
       "   reach  impact  confidence  efforts    ICE  \n",
       "8      1       9           9        5  16.20  \n",
       "0      3      10           8        6  13.33  \n",
       "7     10       7           8        5  11.20  \n",
       "6      5       3           8        3   8.00  \n",
       "2      8       3           7        3   7.00  \n",
       "1      2       5           4       10   2.00  \n",
       "5      3       2           2        3   1.33  \n",
       "3      8       3           3        8   1.12  \n",
       "4      3       1           1        1   1.00  "
      ]
     },
     "metadata": {},
     "output_type": "display_data"
    }
   ],
   "source": [
    "# Отсортируем гипотезы по убыванию приоритета:\n",
    "\n",
    "display (data.sort_values (by = 'ICE', ascending = False))\n",
    "pd.options.display.max_colwidth = 210"
   ]
  },
  {
   "cell_type": "markdown",
   "metadata": {},
   "source": [
    "Мы видим, что самый высокий показатель ICE у гипотезы номер 8. За ней следуют гипотезы с номерами 0 и 7"
   ]
  },
  {
   "cell_type": "markdown",
   "metadata": {},
   "source": [
    "### Применим фреймворк RICE для приоритизации гипотез"
   ]
  },
  {
   "cell_type": "code",
   "execution_count": 18,
   "metadata": {},
   "outputs": [
    {
     "data": {
      "text/html": [
       "<div>\n",
       "<style scoped>\n",
       "    .dataframe tbody tr th:only-of-type {\n",
       "        vertical-align: middle;\n",
       "    }\n",
       "\n",
       "    .dataframe tbody tr th {\n",
       "        vertical-align: top;\n",
       "    }\n",
       "\n",
       "    .dataframe thead th {\n",
       "        text-align: right;\n",
       "    }\n",
       "</style>\n",
       "<table border=\"1\" class=\"dataframe\">\n",
       "  <thead>\n",
       "    <tr style=\"text-align: right;\">\n",
       "      <th></th>\n",
       "      <th>hypothesis</th>\n",
       "      <th>reach</th>\n",
       "      <th>impact</th>\n",
       "      <th>confidence</th>\n",
       "      <th>efforts</th>\n",
       "      <th>ICE</th>\n",
       "      <th>RICE</th>\n",
       "    </tr>\n",
       "  </thead>\n",
       "  <tbody>\n",
       "    <tr>\n",
       "      <th>0</th>\n",
       "      <td>Добавить два новых канала привлечения трафика, что позволит привлекать на 30% больше пользователей</td>\n",
       "      <td>3</td>\n",
       "      <td>10</td>\n",
       "      <td>8</td>\n",
       "      <td>6</td>\n",
       "      <td>13.33</td>\n",
       "      <td>40.0</td>\n",
       "    </tr>\n",
       "    <tr>\n",
       "      <th>1</th>\n",
       "      <td>Запустить собственную службу доставки, что сократит срок доставки заказов</td>\n",
       "      <td>2</td>\n",
       "      <td>5</td>\n",
       "      <td>4</td>\n",
       "      <td>10</td>\n",
       "      <td>2.00</td>\n",
       "      <td>4.0</td>\n",
       "    </tr>\n",
       "    <tr>\n",
       "      <th>2</th>\n",
       "      <td>Добавить блоки рекомендаций товаров на сайт интернет магазина, чтобы повысить конверсию и средний чек заказа</td>\n",
       "      <td>8</td>\n",
       "      <td>3</td>\n",
       "      <td>7</td>\n",
       "      <td>3</td>\n",
       "      <td>7.00</td>\n",
       "      <td>56.0</td>\n",
       "    </tr>\n",
       "    <tr>\n",
       "      <th>3</th>\n",
       "      <td>Изменить структура категорий, что увеличит конверсию, т.к. пользователи быстрее найдут нужный товар</td>\n",
       "      <td>8</td>\n",
       "      <td>3</td>\n",
       "      <td>3</td>\n",
       "      <td>8</td>\n",
       "      <td>1.12</td>\n",
       "      <td>9.0</td>\n",
       "    </tr>\n",
       "    <tr>\n",
       "      <th>4</th>\n",
       "      <td>Изменить цвет фона главной страницы, чтобы увеличить вовлеченность пользователей</td>\n",
       "      <td>3</td>\n",
       "      <td>1</td>\n",
       "      <td>1</td>\n",
       "      <td>1</td>\n",
       "      <td>1.00</td>\n",
       "      <td>3.0</td>\n",
       "    </tr>\n",
       "    <tr>\n",
       "      <th>5</th>\n",
       "      <td>Добавить страницу отзывов клиентов о магазине, что позволит увеличить количество заказов</td>\n",
       "      <td>3</td>\n",
       "      <td>2</td>\n",
       "      <td>2</td>\n",
       "      <td>3</td>\n",
       "      <td>1.33</td>\n",
       "      <td>4.0</td>\n",
       "    </tr>\n",
       "    <tr>\n",
       "      <th>6</th>\n",
       "      <td>Показать на главной странице баннеры с актуальными акциями и распродажами, чтобы увеличить конверсию</td>\n",
       "      <td>5</td>\n",
       "      <td>3</td>\n",
       "      <td>8</td>\n",
       "      <td>3</td>\n",
       "      <td>8.00</td>\n",
       "      <td>40.0</td>\n",
       "    </tr>\n",
       "    <tr>\n",
       "      <th>7</th>\n",
       "      <td>Добавить форму подписки на все основные страницы, чтобы собрать базу клиентов для email-рассылок</td>\n",
       "      <td>10</td>\n",
       "      <td>7</td>\n",
       "      <td>8</td>\n",
       "      <td>5</td>\n",
       "      <td>11.20</td>\n",
       "      <td>112.0</td>\n",
       "    </tr>\n",
       "    <tr>\n",
       "      <th>8</th>\n",
       "      <td>Запустить акцию, дающую скидку на товар в день рождения</td>\n",
       "      <td>1</td>\n",
       "      <td>9</td>\n",
       "      <td>9</td>\n",
       "      <td>5</td>\n",
       "      <td>16.20</td>\n",
       "      <td>16.2</td>\n",
       "    </tr>\n",
       "  </tbody>\n",
       "</table>\n",
       "</div>"
      ],
      "text/plain": [
       "                                                                                                     hypothesis  \\\n",
       "0            Добавить два новых канала привлечения трафика, что позволит привлекать на 30% больше пользователей   \n",
       "1                                     Запустить собственную службу доставки, что сократит срок доставки заказов   \n",
       "2  Добавить блоки рекомендаций товаров на сайт интернет магазина, чтобы повысить конверсию и средний чек заказа   \n",
       "3           Изменить структура категорий, что увеличит конверсию, т.к. пользователи быстрее найдут нужный товар   \n",
       "4                              Изменить цвет фона главной страницы, чтобы увеличить вовлеченность пользователей   \n",
       "5                      Добавить страницу отзывов клиентов о магазине, что позволит увеличить количество заказов   \n",
       "6          Показать на главной странице баннеры с актуальными акциями и распродажами, чтобы увеличить конверсию   \n",
       "7              Добавить форму подписки на все основные страницы, чтобы собрать базу клиентов для email-рассылок   \n",
       "8                                                       Запустить акцию, дающую скидку на товар в день рождения   \n",
       "\n",
       "   reach  impact  confidence  efforts    ICE   RICE  \n",
       "0      3      10           8        6  13.33   40.0  \n",
       "1      2       5           4       10   2.00    4.0  \n",
       "2      8       3           7        3   7.00   56.0  \n",
       "3      8       3           3        8   1.12    9.0  \n",
       "4      3       1           1        1   1.00    3.0  \n",
       "5      3       2           2        3   1.33    4.0  \n",
       "6      5       3           8        3   8.00   40.0  \n",
       "7     10       7           8        5  11.20  112.0  \n",
       "8      1       9           9        5  16.20   16.2  "
      ]
     },
     "metadata": {},
     "output_type": "display_data"
    }
   ],
   "source": [
    "# Рассчитаем значение ICE для каждой из гипотез и добавим его знчение в датасет отдельным столбцом: \n",
    "\n",
    "data ['RICE'] = data ['reach'] * data ['impact'] * data['confidence'] / data['efforts']\n",
    "display (data)\n",
    "pd.options.display.max_colwidth = 210"
   ]
  },
  {
   "cell_type": "code",
   "execution_count": 19,
   "metadata": {},
   "outputs": [
    {
     "data": {
      "text/html": [
       "<div>\n",
       "<style scoped>\n",
       "    .dataframe tbody tr th:only-of-type {\n",
       "        vertical-align: middle;\n",
       "    }\n",
       "\n",
       "    .dataframe tbody tr th {\n",
       "        vertical-align: top;\n",
       "    }\n",
       "\n",
       "    .dataframe thead th {\n",
       "        text-align: right;\n",
       "    }\n",
       "</style>\n",
       "<table border=\"1\" class=\"dataframe\">\n",
       "  <thead>\n",
       "    <tr style=\"text-align: right;\">\n",
       "      <th></th>\n",
       "      <th>hypothesis</th>\n",
       "      <th>reach</th>\n",
       "      <th>impact</th>\n",
       "      <th>confidence</th>\n",
       "      <th>efforts</th>\n",
       "      <th>ICE</th>\n",
       "      <th>RICE</th>\n",
       "    </tr>\n",
       "  </thead>\n",
       "  <tbody>\n",
       "    <tr>\n",
       "      <th>7</th>\n",
       "      <td>Добавить форму подписки на все основные страницы, чтобы собрать базу клиентов для email-рассылок</td>\n",
       "      <td>10</td>\n",
       "      <td>7</td>\n",
       "      <td>8</td>\n",
       "      <td>5</td>\n",
       "      <td>11.20</td>\n",
       "      <td>112.0</td>\n",
       "    </tr>\n",
       "    <tr>\n",
       "      <th>2</th>\n",
       "      <td>Добавить блоки рекомендаций товаров на сайт интернет магазина, чтобы повысить конверсию и средний чек заказа</td>\n",
       "      <td>8</td>\n",
       "      <td>3</td>\n",
       "      <td>7</td>\n",
       "      <td>3</td>\n",
       "      <td>7.00</td>\n",
       "      <td>56.0</td>\n",
       "    </tr>\n",
       "    <tr>\n",
       "      <th>0</th>\n",
       "      <td>Добавить два новых канала привлечения трафика, что позволит привлекать на 30% больше пользователей</td>\n",
       "      <td>3</td>\n",
       "      <td>10</td>\n",
       "      <td>8</td>\n",
       "      <td>6</td>\n",
       "      <td>13.33</td>\n",
       "      <td>40.0</td>\n",
       "    </tr>\n",
       "    <tr>\n",
       "      <th>6</th>\n",
       "      <td>Показать на главной странице баннеры с актуальными акциями и распродажами, чтобы увеличить конверсию</td>\n",
       "      <td>5</td>\n",
       "      <td>3</td>\n",
       "      <td>8</td>\n",
       "      <td>3</td>\n",
       "      <td>8.00</td>\n",
       "      <td>40.0</td>\n",
       "    </tr>\n",
       "    <tr>\n",
       "      <th>8</th>\n",
       "      <td>Запустить акцию, дающую скидку на товар в день рождения</td>\n",
       "      <td>1</td>\n",
       "      <td>9</td>\n",
       "      <td>9</td>\n",
       "      <td>5</td>\n",
       "      <td>16.20</td>\n",
       "      <td>16.2</td>\n",
       "    </tr>\n",
       "    <tr>\n",
       "      <th>3</th>\n",
       "      <td>Изменить структура категорий, что увеличит конверсию, т.к. пользователи быстрее найдут нужный товар</td>\n",
       "      <td>8</td>\n",
       "      <td>3</td>\n",
       "      <td>3</td>\n",
       "      <td>8</td>\n",
       "      <td>1.12</td>\n",
       "      <td>9.0</td>\n",
       "    </tr>\n",
       "    <tr>\n",
       "      <th>1</th>\n",
       "      <td>Запустить собственную службу доставки, что сократит срок доставки заказов</td>\n",
       "      <td>2</td>\n",
       "      <td>5</td>\n",
       "      <td>4</td>\n",
       "      <td>10</td>\n",
       "      <td>2.00</td>\n",
       "      <td>4.0</td>\n",
       "    </tr>\n",
       "    <tr>\n",
       "      <th>5</th>\n",
       "      <td>Добавить страницу отзывов клиентов о магазине, что позволит увеличить количество заказов</td>\n",
       "      <td>3</td>\n",
       "      <td>2</td>\n",
       "      <td>2</td>\n",
       "      <td>3</td>\n",
       "      <td>1.33</td>\n",
       "      <td>4.0</td>\n",
       "    </tr>\n",
       "    <tr>\n",
       "      <th>4</th>\n",
       "      <td>Изменить цвет фона главной страницы, чтобы увеличить вовлеченность пользователей</td>\n",
       "      <td>3</td>\n",
       "      <td>1</td>\n",
       "      <td>1</td>\n",
       "      <td>1</td>\n",
       "      <td>1.00</td>\n",
       "      <td>3.0</td>\n",
       "    </tr>\n",
       "  </tbody>\n",
       "</table>\n",
       "</div>"
      ],
      "text/plain": [
       "                                                                                                     hypothesis  \\\n",
       "7              Добавить форму подписки на все основные страницы, чтобы собрать базу клиентов для email-рассылок   \n",
       "2  Добавить блоки рекомендаций товаров на сайт интернет магазина, чтобы повысить конверсию и средний чек заказа   \n",
       "0            Добавить два новых канала привлечения трафика, что позволит привлекать на 30% больше пользователей   \n",
       "6          Показать на главной странице баннеры с актуальными акциями и распродажами, чтобы увеличить конверсию   \n",
       "8                                                       Запустить акцию, дающую скидку на товар в день рождения   \n",
       "3           Изменить структура категорий, что увеличит конверсию, т.к. пользователи быстрее найдут нужный товар   \n",
       "1                                     Запустить собственную службу доставки, что сократит срок доставки заказов   \n",
       "5                      Добавить страницу отзывов клиентов о магазине, что позволит увеличить количество заказов   \n",
       "4                              Изменить цвет фона главной страницы, чтобы увеличить вовлеченность пользователей   \n",
       "\n",
       "   reach  impact  confidence  efforts    ICE   RICE  \n",
       "7     10       7           8        5  11.20  112.0  \n",
       "2      8       3           7        3   7.00   56.0  \n",
       "0      3      10           8        6  13.33   40.0  \n",
       "6      5       3           8        3   8.00   40.0  \n",
       "8      1       9           9        5  16.20   16.2  \n",
       "3      8       3           3        8   1.12    9.0  \n",
       "1      2       5           4       10   2.00    4.0  \n",
       "5      3       2           2        3   1.33    4.0  \n",
       "4      3       1           1        1   1.00    3.0  "
      ]
     },
     "metadata": {},
     "output_type": "display_data"
    }
   ],
   "source": [
    "# Отсортируем гипотезы по убыванию приоритета:\n",
    "\n",
    "display (data.sort_values (by = 'RICE', ascending = False))"
   ]
  },
  {
   "cell_type": "markdown",
   "metadata": {},
   "source": [
    "Применение фреймворка RICE несколько изменило состав тройки лидеров: на первое место с большим отрывом вышла гипотеза номер 7, за ней следуют гипотезы с номерами 2, 0 и 6. Можно предположить, что дело в параметре reach: \n",
    "- значения параметра reach для гипотезы номер 8 (наиболее приоритетной по фреймворку ICE) оказались очень низкими, что и повлияло на ее снижение в рейтинге по фреймворку RICE;\n",
    "- для гипотез с номерами 7 и 2, напротив, значение параметра reach оказалось высоким, поэтому они и поднялись в рейтинге.\n",
    "\n",
    "Также важно отметить, что несмотря на некоторые изменения внутри, пятерка наиболее приоритетных гипотез осталась неизменной как при использовании фреймворка ICE, так и для фреймворка RICE."
   ]
  },
  {
   "cell_type": "markdown",
   "metadata": {},
   "source": [
    "## Анализ A/B-теста"
   ]
  },
  {
   "cell_type": "markdown",
   "metadata": {},
   "source": [
    "### Кумулятивная выручка по группам"
   ]
  },
  {
   "cell_type": "code",
   "execution_count": 20,
   "metadata": {},
   "outputs": [
    {
     "data": {
      "text/html": [
       "<div>\n",
       "<style scoped>\n",
       "    .dataframe tbody tr th:only-of-type {\n",
       "        vertical-align: middle;\n",
       "    }\n",
       "\n",
       "    .dataframe tbody tr th {\n",
       "        vertical-align: top;\n",
       "    }\n",
       "\n",
       "    .dataframe thead th {\n",
       "        text-align: right;\n",
       "    }\n",
       "</style>\n",
       "<table border=\"1\" class=\"dataframe\">\n",
       "  <thead>\n",
       "    <tr style=\"text-align: right;\">\n",
       "      <th></th>\n",
       "      <th>date</th>\n",
       "      <th>group</th>\n",
       "    </tr>\n",
       "  </thead>\n",
       "  <tbody>\n",
       "    <tr>\n",
       "      <th>0</th>\n",
       "      <td>2019-08-15</td>\n",
       "      <td>B</td>\n",
       "    </tr>\n",
       "    <tr>\n",
       "      <th>2</th>\n",
       "      <td>2019-08-15</td>\n",
       "      <td>A</td>\n",
       "    </tr>\n",
       "    <tr>\n",
       "      <th>45</th>\n",
       "      <td>2019-08-16</td>\n",
       "      <td>A</td>\n",
       "    </tr>\n",
       "    <tr>\n",
       "      <th>47</th>\n",
       "      <td>2019-08-16</td>\n",
       "      <td>B</td>\n",
       "    </tr>\n",
       "    <tr>\n",
       "      <th>55</th>\n",
       "      <td>2019-08-01</td>\n",
       "      <td>A</td>\n",
       "    </tr>\n",
       "    <tr>\n",
       "      <th>...</th>\n",
       "      <td>...</td>\n",
       "      <td>...</td>\n",
       "    </tr>\n",
       "    <tr>\n",
       "      <th>1068</th>\n",
       "      <td>2019-08-12</td>\n",
       "      <td>A</td>\n",
       "    </tr>\n",
       "    <tr>\n",
       "      <th>1114</th>\n",
       "      <td>2019-08-13</td>\n",
       "      <td>B</td>\n",
       "    </tr>\n",
       "    <tr>\n",
       "      <th>1116</th>\n",
       "      <td>2019-08-13</td>\n",
       "      <td>A</td>\n",
       "    </tr>\n",
       "    <tr>\n",
       "      <th>1149</th>\n",
       "      <td>2019-08-14</td>\n",
       "      <td>B</td>\n",
       "    </tr>\n",
       "    <tr>\n",
       "      <th>1150</th>\n",
       "      <td>2019-08-14</td>\n",
       "      <td>A</td>\n",
       "    </tr>\n",
       "  </tbody>\n",
       "</table>\n",
       "<p>62 rows × 2 columns</p>\n",
       "</div>"
      ],
      "text/plain": [
       "           date group\n",
       "0    2019-08-15     B\n",
       "2    2019-08-15     A\n",
       "45   2019-08-16     A\n",
       "47   2019-08-16     B\n",
       "55   2019-08-01     A\n",
       "...         ...   ...\n",
       "1068 2019-08-12     A\n",
       "1114 2019-08-13     B\n",
       "1116 2019-08-13     A\n",
       "1149 2019-08-14     B\n",
       "1150 2019-08-14     A\n",
       "\n",
       "[62 rows x 2 columns]"
      ]
     },
     "metadata": {},
     "output_type": "display_data"
    },
    {
     "data": {
      "text/html": [
       "<div>\n",
       "<style scoped>\n",
       "    .dataframe tbody tr th:only-of-type {\n",
       "        vertical-align: middle;\n",
       "    }\n",
       "\n",
       "    .dataframe tbody tr th {\n",
       "        vertical-align: top;\n",
       "    }\n",
       "\n",
       "    .dataframe thead th {\n",
       "        text-align: right;\n",
       "    }\n",
       "</style>\n",
       "<table border=\"1\" class=\"dataframe\">\n",
       "  <thead>\n",
       "    <tr style=\"text-align: right;\">\n",
       "      <th></th>\n",
       "      <th>date</th>\n",
       "      <th>group</th>\n",
       "      <th>transactionId</th>\n",
       "      <th>visitorId</th>\n",
       "      <th>revenue</th>\n",
       "    </tr>\n",
       "  </thead>\n",
       "  <tbody>\n",
       "    <tr>\n",
       "      <th>55</th>\n",
       "      <td>2019-08-01</td>\n",
       "      <td>A</td>\n",
       "      <td>24</td>\n",
       "      <td>20</td>\n",
       "      <td>148579</td>\n",
       "    </tr>\n",
       "    <tr>\n",
       "      <th>66</th>\n",
       "      <td>2019-08-01</td>\n",
       "      <td>B</td>\n",
       "      <td>21</td>\n",
       "      <td>20</td>\n",
       "      <td>101217</td>\n",
       "    </tr>\n",
       "    <tr>\n",
       "      <th>175</th>\n",
       "      <td>2019-08-02</td>\n",
       "      <td>A</td>\n",
       "      <td>44</td>\n",
       "      <td>38</td>\n",
       "      <td>242401</td>\n",
       "    </tr>\n",
       "    <tr>\n",
       "      <th>173</th>\n",
       "      <td>2019-08-02</td>\n",
       "      <td>B</td>\n",
       "      <td>45</td>\n",
       "      <td>43</td>\n",
       "      <td>266748</td>\n",
       "    </tr>\n",
       "    <tr>\n",
       "      <th>291</th>\n",
       "      <td>2019-08-03</td>\n",
       "      <td>A</td>\n",
       "      <td>68</td>\n",
       "      <td>62</td>\n",
       "      <td>354874</td>\n",
       "    </tr>\n",
       "    <tr>\n",
       "      <th>...</th>\n",
       "      <td>...</td>\n",
       "      <td>...</td>\n",
       "      <td>...</td>\n",
       "      <td>...</td>\n",
       "      <td>...</td>\n",
       "    </tr>\n",
       "    <tr>\n",
       "      <th>496</th>\n",
       "      <td>2019-08-29</td>\n",
       "      <td>B</td>\n",
       "      <td>596</td>\n",
       "      <td>544</td>\n",
       "      <td>5559398</td>\n",
       "    </tr>\n",
       "    <tr>\n",
       "      <th>730</th>\n",
       "      <td>2019-08-30</td>\n",
       "      <td>A</td>\n",
       "      <td>545</td>\n",
       "      <td>493</td>\n",
       "      <td>4022970</td>\n",
       "    </tr>\n",
       "    <tr>\n",
       "      <th>690</th>\n",
       "      <td>2019-08-30</td>\n",
       "      <td>B</td>\n",
       "      <td>620</td>\n",
       "      <td>567</td>\n",
       "      <td>5774631</td>\n",
       "    </tr>\n",
       "    <tr>\n",
       "      <th>958</th>\n",
       "      <td>2019-08-31</td>\n",
       "      <td>A</td>\n",
       "      <td>557</td>\n",
       "      <td>503</td>\n",
       "      <td>4084803</td>\n",
       "    </tr>\n",
       "    <tr>\n",
       "      <th>930</th>\n",
       "      <td>2019-08-31</td>\n",
       "      <td>B</td>\n",
       "      <td>640</td>\n",
       "      <td>586</td>\n",
       "      <td>5907760</td>\n",
       "    </tr>\n",
       "  </tbody>\n",
       "</table>\n",
       "<p>62 rows × 5 columns</p>\n",
       "</div>"
      ],
      "text/plain": [
       "          date group  transactionId  visitorId  revenue\n",
       "55  2019-08-01     A             24         20   148579\n",
       "66  2019-08-01     B             21         20   101217\n",
       "175 2019-08-02     A             44         38   242401\n",
       "173 2019-08-02     B             45         43   266748\n",
       "291 2019-08-03     A             68         62   354874\n",
       "..         ...   ...            ...        ...      ...\n",
       "496 2019-08-29     B            596        544  5559398\n",
       "730 2019-08-30     A            545        493  4022970\n",
       "690 2019-08-30     B            620        567  5774631\n",
       "958 2019-08-31     A            557        503  4084803\n",
       "930 2019-08-31     B            640        586  5907760\n",
       "\n",
       "[62 rows x 5 columns]"
      ]
     },
     "metadata": {},
     "output_type": "display_data"
    },
    {
     "data": {
      "text/html": [
       "<div>\n",
       "<style scoped>\n",
       "    .dataframe tbody tr th:only-of-type {\n",
       "        vertical-align: middle;\n",
       "    }\n",
       "\n",
       "    .dataframe tbody tr th {\n",
       "        vertical-align: top;\n",
       "    }\n",
       "\n",
       "    .dataframe thead th {\n",
       "        text-align: right;\n",
       "    }\n",
       "</style>\n",
       "<table border=\"1\" class=\"dataframe\">\n",
       "  <thead>\n",
       "    <tr style=\"text-align: right;\">\n",
       "      <th></th>\n",
       "      <th>date</th>\n",
       "      <th>group</th>\n",
       "      <th>visitors</th>\n",
       "    </tr>\n",
       "  </thead>\n",
       "  <tbody>\n",
       "    <tr>\n",
       "      <th>55</th>\n",
       "      <td>2019-08-01</td>\n",
       "      <td>A</td>\n",
       "      <td>719</td>\n",
       "    </tr>\n",
       "    <tr>\n",
       "      <th>66</th>\n",
       "      <td>2019-08-01</td>\n",
       "      <td>B</td>\n",
       "      <td>713</td>\n",
       "    </tr>\n",
       "    <tr>\n",
       "      <th>175</th>\n",
       "      <td>2019-08-02</td>\n",
       "      <td>A</td>\n",
       "      <td>1338</td>\n",
       "    </tr>\n",
       "    <tr>\n",
       "      <th>173</th>\n",
       "      <td>2019-08-02</td>\n",
       "      <td>B</td>\n",
       "      <td>1294</td>\n",
       "    </tr>\n",
       "    <tr>\n",
       "      <th>291</th>\n",
       "      <td>2019-08-03</td>\n",
       "      <td>A</td>\n",
       "      <td>1845</td>\n",
       "    </tr>\n",
       "    <tr>\n",
       "      <th>...</th>\n",
       "      <td>...</td>\n",
       "      <td>...</td>\n",
       "      <td>...</td>\n",
       "    </tr>\n",
       "    <tr>\n",
       "      <th>496</th>\n",
       "      <td>2019-08-29</td>\n",
       "      <td>B</td>\n",
       "      <td>17708</td>\n",
       "    </tr>\n",
       "    <tr>\n",
       "      <th>730</th>\n",
       "      <td>2019-08-30</td>\n",
       "      <td>A</td>\n",
       "      <td>18037</td>\n",
       "    </tr>\n",
       "    <tr>\n",
       "      <th>690</th>\n",
       "      <td>2019-08-30</td>\n",
       "      <td>B</td>\n",
       "      <td>18198</td>\n",
       "    </tr>\n",
       "    <tr>\n",
       "      <th>958</th>\n",
       "      <td>2019-08-31</td>\n",
       "      <td>A</td>\n",
       "      <td>18736</td>\n",
       "    </tr>\n",
       "    <tr>\n",
       "      <th>930</th>\n",
       "      <td>2019-08-31</td>\n",
       "      <td>B</td>\n",
       "      <td>18916</td>\n",
       "    </tr>\n",
       "  </tbody>\n",
       "</table>\n",
       "<p>62 rows × 3 columns</p>\n",
       "</div>"
      ],
      "text/plain": [
       "          date group  visitors\n",
       "55  2019-08-01     A       719\n",
       "66  2019-08-01     B       713\n",
       "175 2019-08-02     A      1338\n",
       "173 2019-08-02     B      1294\n",
       "291 2019-08-03     A      1845\n",
       "..         ...   ...       ...\n",
       "496 2019-08-29     B     17708\n",
       "730 2019-08-30     A     18037\n",
       "690 2019-08-30     B     18198\n",
       "958 2019-08-31     A     18736\n",
       "930 2019-08-31     B     18916\n",
       "\n",
       "[62 rows x 3 columns]"
      ]
     },
     "metadata": {},
     "output_type": "display_data"
    }
   ],
   "source": [
    "# создадим датафрейм datesGroups с уникальными парами значений 'date' и 'group', таблицы orders \n",
    "# и избавимся от дубликатов методом drop_duplicates()\n",
    "\n",
    "datesGroups = orders[['date', 'group']].drop_duplicates()\n",
    "display (datesGroups)\n",
    "\n",
    "# соберем агрегированные кумулятивные по дням данные о заказах в переменную ordersAggregated\n",
    "\n",
    "ordersAggregated = datesGroups.apply(\n",
    "    lambda x: orders[\n",
    "        np.logical_and(\n",
    "            orders['date'] <= x['date'], orders['group'] == x['group'])].agg(\n",
    "        {   'date': 'max',\n",
    "            'group': 'max',\n",
    "            'transactionId': 'nunique',\n",
    "            'visitorId': 'nunique',\n",
    "            'revenue': 'sum'}),\n",
    "    axis=1).sort_values(by=['date', 'group'])\n",
    "display(ordersAggregated)\n",
    "\n",
    "# соберем агрегированные кумулятивные по дням данные о посетителях в переменную visitorsAggregated\n",
    "visitorsAggregated = datesGroups.apply(\n",
    "    lambda x: visitors[\n",
    "        np.logical_and(\n",
    "            visitors['date'] <= x['date'], visitors['group'] == x['group'])].agg(\n",
    "        {'date' : 'max', \n",
    "         'group' : 'max', \n",
    "         'visitors' : 'sum'}), \n",
    "    axis=1).sort_values(by=['date','group'])\n",
    "display(visitorsAggregated)"
   ]
  },
  {
   "cell_type": "code",
   "execution_count": 21,
   "metadata": {},
   "outputs": [
    {
     "data": {
      "text/html": [
       "<div>\n",
       "<style scoped>\n",
       "    .dataframe tbody tr th:only-of-type {\n",
       "        vertical-align: middle;\n",
       "    }\n",
       "\n",
       "    .dataframe tbody tr th {\n",
       "        vertical-align: top;\n",
       "    }\n",
       "\n",
       "    .dataframe thead th {\n",
       "        text-align: right;\n",
       "    }\n",
       "</style>\n",
       "<table border=\"1\" class=\"dataframe\">\n",
       "  <thead>\n",
       "    <tr style=\"text-align: right;\">\n",
       "      <th></th>\n",
       "      <th>date</th>\n",
       "      <th>group</th>\n",
       "      <th>orders</th>\n",
       "      <th>buyers</th>\n",
       "      <th>revenue</th>\n",
       "      <th>visitors</th>\n",
       "    </tr>\n",
       "  </thead>\n",
       "  <tbody>\n",
       "    <tr>\n",
       "      <th>0</th>\n",
       "      <td>2019-08-01</td>\n",
       "      <td>A</td>\n",
       "      <td>24</td>\n",
       "      <td>20</td>\n",
       "      <td>148579</td>\n",
       "      <td>719</td>\n",
       "    </tr>\n",
       "    <tr>\n",
       "      <th>1</th>\n",
       "      <td>2019-08-01</td>\n",
       "      <td>B</td>\n",
       "      <td>21</td>\n",
       "      <td>20</td>\n",
       "      <td>101217</td>\n",
       "      <td>713</td>\n",
       "    </tr>\n",
       "    <tr>\n",
       "      <th>2</th>\n",
       "      <td>2019-08-02</td>\n",
       "      <td>A</td>\n",
       "      <td>44</td>\n",
       "      <td>38</td>\n",
       "      <td>242401</td>\n",
       "      <td>1338</td>\n",
       "    </tr>\n",
       "    <tr>\n",
       "      <th>3</th>\n",
       "      <td>2019-08-02</td>\n",
       "      <td>B</td>\n",
       "      <td>45</td>\n",
       "      <td>43</td>\n",
       "      <td>266748</td>\n",
       "      <td>1294</td>\n",
       "    </tr>\n",
       "    <tr>\n",
       "      <th>4</th>\n",
       "      <td>2019-08-03</td>\n",
       "      <td>A</td>\n",
       "      <td>68</td>\n",
       "      <td>62</td>\n",
       "      <td>354874</td>\n",
       "      <td>1845</td>\n",
       "    </tr>\n",
       "    <tr>\n",
       "      <th>5</th>\n",
       "      <td>2019-08-03</td>\n",
       "      <td>B</td>\n",
       "      <td>61</td>\n",
       "      <td>59</td>\n",
       "      <td>380996</td>\n",
       "      <td>1803</td>\n",
       "    </tr>\n",
       "    <tr>\n",
       "      <th>6</th>\n",
       "      <td>2019-08-04</td>\n",
       "      <td>A</td>\n",
       "      <td>84</td>\n",
       "      <td>77</td>\n",
       "      <td>425699</td>\n",
       "      <td>2562</td>\n",
       "    </tr>\n",
       "    <tr>\n",
       "      <th>7</th>\n",
       "      <td>2019-08-04</td>\n",
       "      <td>B</td>\n",
       "      <td>78</td>\n",
       "      <td>75</td>\n",
       "      <td>489567</td>\n",
       "      <td>2573</td>\n",
       "    </tr>\n",
       "    <tr>\n",
       "      <th>8</th>\n",
       "      <td>2019-08-05</td>\n",
       "      <td>A</td>\n",
       "      <td>109</td>\n",
       "      <td>100</td>\n",
       "      <td>549917</td>\n",
       "      <td>3318</td>\n",
       "    </tr>\n",
       "    <tr>\n",
       "      <th>9</th>\n",
       "      <td>2019-08-05</td>\n",
       "      <td>B</td>\n",
       "      <td>101</td>\n",
       "      <td>98</td>\n",
       "      <td>581995</td>\n",
       "      <td>3280</td>\n",
       "    </tr>\n",
       "  </tbody>\n",
       "</table>\n",
       "</div>"
      ],
      "text/plain": [
       "        date group  orders  buyers  revenue  visitors\n",
       "0 2019-08-01     A      24      20   148579       719\n",
       "1 2019-08-01     B      21      20   101217       713\n",
       "2 2019-08-02     A      44      38   242401      1338\n",
       "3 2019-08-02     B      45      43   266748      1294\n",
       "4 2019-08-03     A      68      62   354874      1845\n",
       "5 2019-08-03     B      61      59   380996      1803\n",
       "6 2019-08-04     A      84      77   425699      2562\n",
       "7 2019-08-04     B      78      75   489567      2573\n",
       "8 2019-08-05     A     109     100   549917      3318\n",
       "9 2019-08-05     B     101      98   581995      3280"
      ]
     },
     "metadata": {},
     "output_type": "display_data"
    }
   ],
   "source": [
    "# объединим кумулятивные данные в одной таблице:\n",
    "cumulativeData = ordersAggregated.merge(visitorsAggregated, left_on=['date', 'group'], right_on=['date', 'group'])\n",
    "\n",
    "# присвоим ее стобцам новые названия:\n",
    "cumulativeData.columns = ['date', 'group', 'orders', 'buyers', 'revenue', 'visitors']\n",
    "\n",
    "# выведем первые 10 строк таблицы cumulativeData на экран:\n",
    "display (cumulativeData.head(10))"
   ]
  },
  {
   "cell_type": "code",
   "execution_count": 22,
   "metadata": {},
   "outputs": [
    {
     "name": "stdout",
     "output_type": "stream",
     "text": [
      "         date  revenue  orders\n",
      "0  2019-08-01   148579      24\n",
      "2  2019-08-02   242401      44\n",
      "4  2019-08-03   354874      68\n",
      "6  2019-08-04   425699      84\n",
      "8  2019-08-05   549917     109\n",
      "10 2019-08-06   598401     127\n",
      "12 2019-08-07   740818     145\n",
      "14 2019-08-08   837097     161\n",
      "16 2019-08-09  1025603     177\n",
      "18 2019-08-10  1236098     193\n",
      "20 2019-08-11  1313683     206\n",
      "22 2019-08-12  1562873     230\n",
      "24 2019-08-13  1826511     244\n",
      "26 2019-08-14  1890852     268\n",
      "28 2019-08-15  1979057     283\n",
      "30 2019-08-16  2078908     301\n",
      "32 2019-08-17  2129769     311\n",
      "34 2019-08-18  2202167     328\n",
      "36 2019-08-19  2391910     350\n",
      "38 2019-08-20  2469529     362\n",
      "40 2019-08-21  2643838     385\n",
      "42 2019-08-22  2756579     401\n",
      "44 2019-08-23  2874367     426\n",
      "46 2019-08-24  3002070     441\n",
      "48 2019-08-25  3070704     451\n",
      "50 2019-08-26  3227918     467\n",
      "52 2019-08-27  3514698     495\n",
      "54 2019-08-28  3615820     512\n",
      "56 2019-08-29  3936510     534\n",
      "58 2019-08-30  4022970     545\n",
      "60 2019-08-31  4084803     557\n",
      "         date  revenue  orders\n",
      "1  2019-08-01   101217      21\n",
      "3  2019-08-02   266748      45\n",
      "5  2019-08-03   380996      61\n",
      "7  2019-08-04   489567      78\n",
      "9  2019-08-05   581995     101\n",
      "11 2019-08-06   824337     129\n",
      "13 2019-08-07  1049671     153\n",
      "15 2019-08-08  1270589     180\n",
      "17 2019-08-09  1431401     205\n",
      "19 2019-08-10  1539203     228\n",
      "21 2019-08-11  1592513     241\n",
      "23 2019-08-12  1734067     264\n",
      "25 2019-08-13  1853738     285\n",
      "27 2019-08-14  2025446     308\n",
      "29 2019-08-15  2367945     339\n",
      "31 2019-08-16  2539635     359\n",
      "33 2019-08-17  2620790     373\n",
      "35 2019-08-18  2686621     382\n",
      "37 2019-08-19  4116541     403\n",
      "39 2019-08-20  4263815     423\n",
      "41 2019-08-21  4426892     437\n",
      "43 2019-08-22  4589247     462\n",
      "45 2019-08-23  4703216     477\n",
      "47 2019-08-24  4798722     493\n",
      "49 2019-08-25  4901584     507\n",
      "51 2019-08-26  5084583     532\n",
      "53 2019-08-27  5232260     548\n",
      "55 2019-08-28  5328268     576\n",
      "57 2019-08-29  5559398     596\n",
      "59 2019-08-30  5774631     620\n",
      "61 2019-08-31  5907760     640\n"
     ]
    }
   ],
   "source": [
    "# сохраним данные о датах, выручке и числе заказов в группе A в переменную cumulativeRevenueA\n",
    "cumulativeRevenueA = cumulativeData[cumulativeData['group']=='A'][['date','revenue', 'orders']]\n",
    "print (cumulativeRevenueA)\n",
    "\n",
    "# сохраним данные о датах, выручке и числе заказов в группе B в переменную \n",
    "cumulativeRevenueB = cumulativeData[cumulativeData['group']=='B'][['date','revenue', 'orders']]\n",
    "print (cumulativeRevenueB)"
   ]
  },
  {
   "cell_type": "code",
   "execution_count": 23,
   "metadata": {},
   "outputs": [
    {
     "data": {
      "image/png": "[encoded data removed]",
      "text/plain": [
       "<Figure size 1080x288 with 1 Axes>"
      ]
     },
     "metadata": {
      "needs_background": "light"
     },
     "output_type": "display_data"
    }
   ],
   "source": [
    "# построим графики кумулятивной выручки по группам:\n",
    "\n",
    "plt.figure(figsize=(15, 4))\n",
    "plt.xticks(rotation=45)\n",
    "plt.title ('Кумулятивная выручка по группам')\n",
    "plt.plot(cumulativeRevenueA['date'], cumulativeRevenueA['revenue'], label='A')\n",
    "plt.plot(cumulativeRevenueB['date'], cumulativeRevenueB['revenue'], label='B')\n",
    "plt.legend();"
   ]
  },
  {
   "cell_type": "markdown",
   "metadata": {},
   "source": [
    "В обеих группах выручка увеличивается в течение всего теста, хоть и немного разными темпами. В группе А рост более равномерный, тогда как в группе В мы наблюдаем резкий скачок выручки в середине теста, после которого разрыв между показателями в группах все сильнее увеличивался ( при этом количество заказов в этот период росло обычными темпами, поэтому вероятнее всего что мы имеем дело с одним или несколькими дорогими заказами).\n",
    "\n",
    "К концу теста в группе В показатель кумулятивной выручки сильно опережал показатель в группе А."
   ]
  },
  {
   "cell_type": "markdown",
   "metadata": {},
   "source": [
    "### Кумулятивный средний чек по группам"
   ]
  },
  {
   "cell_type": "code",
   "execution_count": 24,
   "metadata": {},
   "outputs": [
    {
     "data": {
      "image/png": "[encoded data removed]",
      "text/plain": [
       "<Figure size 1080x288 with 1 Axes>"
      ]
     },
     "metadata": {
      "needs_background": "light"
     },
     "output_type": "display_data"
    }
   ],
   "source": [
    "# определим кумулятивный средний чек для каждой из групп и построим график: \n",
    "\n",
    "plt.figure(figsize=(15, 4))\n",
    "plt.xticks(rotation=45)\n",
    "plt.title ('Кумулятивный средний чек по группам')\n",
    "plt.plot(cumulativeRevenueA['date'], cumulativeRevenueA['revenue']/cumulativeRevenueA['orders'], label='A')\n",
    "plt.plot(cumulativeRevenueB['date'], cumulativeRevenueB['revenue']/cumulativeRevenueB['orders'], label='B')\n",
    "plt.legend();"
   ]
  },
  {
   "cell_type": "markdown",
   "metadata": {},
   "source": [
    "В начале теста показатель среднего чек в обеих группах постоянно меняется, однако уже с середины теста можно заметить некоторую стабилизацию. При этом в группе А это значение было достигнуто плавно, тогда как в группе В мы снова видим резкий скачок в середине теста (что подтверждает предположение о некотором количестве крупных заказов) и затем плавное снижение."
   ]
  },
  {
   "cell_type": "code",
   "execution_count": 25,
   "metadata": {},
   "outputs": [
    {
     "data": {
      "image/png": "[encoded data removed]",
      "text/plain": [
       "<Figure size 1080x288 with 1 Axes>"
      ]
     },
     "metadata": {
      "needs_background": "light"
     },
     "output_type": "display_data"
    }
   ],
   "source": [
    "# соберем данные о кумулятивной выручке в одну таблицу:\n",
    "mergedCumulativeRevenue = cumulativeRevenueA.merge(\n",
    "    cumulativeRevenueB, left_on='date', right_on='date', how='left', suffixes=['A', 'B'])\n",
    "\n",
    "# построим график относительного различия для среднего чека группы В к группе А\n",
    "plt.figure(figsize=(15, 4))\n",
    "plt.xticks(rotation=45)\n",
    "plt.title ('Относительное различие среднего чека в группе В к группе А')\n",
    "plt.plot(mergedCumulativeRevenue['date'], (\n",
    "    mergedCumulativeRevenue['revenueB']/mergedCumulativeRevenue['ordersB'])/\n",
    "         (mergedCumulativeRevenue['revenueA']/mergedCumulativeRevenue['ordersA'])-1)\n",
    "\n",
    "# добавляем ось X\n",
    "plt.axhline(y=0, color='black', linestyle='--'); "
   ]
  },
  {
   "cell_type": "markdown",
   "metadata": {},
   "source": [
    "Мы видим, что отношение среднего чека в группе В к среднему чеку в группе А постоянно меняется, и зачастую весьма резко, что также свидетельствует в пользу версии об отдельных дорогостоящих заказах. Во второй половине теста средний чек в группе В стабильно выше, чем в группе А, однако после некоторых скачков мы видим тенденцию к некоторому снижению этой разницы."
   ]
  },
  {
   "cell_type": "markdown",
   "metadata": {},
   "source": [
    "### Кумулятивное среднее количество заказов на пользователя по группам"
   ]
  },
  {
   "cell_type": "code",
   "execution_count": 26,
   "metadata": {},
   "outputs": [],
   "source": [
    "# расчитаем среднее количество заказов на пользователя и добавим данные в новый столбец таблицы cumulativeData:\n",
    "\n",
    "cumulativeDataA = cumulativeData[cumulativeData['group']=='A']\n",
    "cumulativeDataB = cumulativeData[cumulativeData['group']=='B']"
   ]
  },
  {
   "cell_type": "code",
   "execution_count": 27,
   "metadata": {
    "scrolled": true
   },
   "outputs": [
    {
     "data": {
      "image/png": "[encoded data removed]",
      "text/plain": [
       "<Figure size 1080x288 with 1 Axes>"
      ]
     },
     "metadata": {
      "needs_background": "light"
     },
     "output_type": "display_data"
    }
   ],
   "source": [
    "# построим графики кумулятивного среднего количества заказов по группам:\n",
    "\n",
    "plt.figure(figsize=(15, 4))\n",
    "plt.xticks(rotation=45)\n",
    "plt.title ('Кумулятивное среднее количество заказов на одного пользователя по группам')\n",
    "plt.plot (cumulativeDataA['date'], cumulativeDataA['orders']/cumulativeDataA['visitors'], label='A')\n",
    "plt.plot (cumulativeDataB['date'], cumulativeDataB['orders']/cumulativeDataB['visitors'], label='B')\n",
    "plt.legend();"
   ]
  },
  {
   "cell_type": "markdown",
   "metadata": {},
   "source": [
    "На графике заметно, что среднее число заказов на пользователя в группе В опередило аналогичный показатель в группе А практически в самом начале теста и после этого уже не уступал лидерство."
   ]
  },
  {
   "cell_type": "code",
   "execution_count": 28,
   "metadata": {},
   "outputs": [
    {
     "data": {
      "image/png": "[encoded data removed]",
      "text/plain": [
       "<Figure size 1080x288 with 1 Axes>"
      ]
     },
     "metadata": {
      "needs_background": "light"
     },
     "output_type": "display_data"
    }
   ],
   "source": [
    "# построим график относительного различия для среднего количества группы В к группе А\n",
    "plt.figure(figsize=(15, 4))\n",
    "plt.xticks(rotation=45)\n",
    "plt.title ('Относительное различие среднего количества заказов в группе В к группе А')\n",
    "plt.plot(mergedCumulativeRevenue['date'], (mergedCumulativeRevenue['ordersB']/mergedCumulativeRevenue['ordersA'])-1)\n",
    "\n",
    "# добавляем ось X\n",
    "plt.axhline(y=0, color='black', linestyle='--'); "
   ]
  },
  {
   "cell_type": "markdown",
   "metadata": {},
   "source": [
    "Данный график наглядно иллюстрирует выводы, сделанные в результате анализы предыдущего графика: за исключением коротких периодов в начале теста, практически на всем его протяжении среднее количество заказов в группе В превышало аналогичный показатель в группе В. Мы видим резкий скачок этой разницы по окончании первой четверти теста, затем можно наблюдать определенную турбулентность с тенденцией к снижению."
   ]
  },
  {
   "cell_type": "markdown",
   "metadata": {},
   "source": [
    "### Количество заказов по пользователям"
   ]
  },
  {
   "cell_type": "code",
   "execution_count": 29,
   "metadata": {},
   "outputs": [
    {
     "name": "stdout",
     "output_type": "stream",
     "text": [
      "       visitorId  orders\n",
      "1023  4256040402      11\n",
      "591   2458001652      11\n",
      "569   2378935119       9\n",
      "487   2038680547       8\n",
      "44     199603092       5\n",
      "744   3062433592       5\n",
      "55     237748145       5\n",
      "917   3803269165       5\n",
      "299   1230306981       5\n",
      "897   3717692402       5\n"
     ]
    }
   ],
   "source": [
    "# Построим таблицу с информацией о количестве заказов для каждого пользователя:\n",
    "\n",
    "ordersByUsers = (\n",
    "    orders.groupby('visitorId', as_index=False)\n",
    "    .agg({'transactionId': 'nunique'})\n",
    ")\n",
    "ordersByUsers.columns = ['visitorId', 'orders']\n",
    "\n",
    "print(ordersByUsers.sort_values(by='orders', ascending=False).head(10))\n"
   ]
  },
  {
   "cell_type": "code",
   "execution_count": 30,
   "metadata": {},
   "outputs": [
    {
     "data": {
      "image/png": "[encoded data removed]",
      "text/plain": [
       "<Figure size 432x288 with 1 Axes>"
      ]
     },
     "metadata": {
      "needs_background": "light"
     },
     "output_type": "display_data"
    }
   ],
   "source": [
    "# Построим точечную диаграмму количества заказов на пользователя с помощью метода scatter()\n",
    "\n",
    "x_values = pd.Series(range(0, len(ordersByUsers)))\n",
    "plt.scatter(x_values, ordersByUsers['orders'])\n",
    "plt.title ('Распределение количества заказов по пользователям');"
   ]
  },
  {
   "cell_type": "markdown",
   "metadata": {},
   "source": [
    "Анализ диаграммы показывает,что подавляющее большинство пользователей совершают до трех заказов."
   ]
  },
  {
   "cell_type": "code",
   "execution_count": 31,
   "metadata": {},
   "outputs": [
    {
     "name": "stdout",
     "output_type": "stream",
     "text": [
      "[1. 2. 4.]\n"
     ]
    }
   ],
   "source": [
    "# Посчитаем 95-й и 99-й перцентили количества заказов на пользователя. \n",
    "\n",
    "print(np.percentile(ordersByUsers['orders'], [90, 95, 99])) "
   ]
  },
  {
   "cell_type": "markdown",
   "metadata": {},
   "source": [
    "Мы видим, что 10% пользователей оформили более одного заказа, 5% - более двух и лишь 1% оформили более 4 заказов. Представляется оправданным установить верхнюю границу для определения аномалий в 3 заказа на пользователя."
   ]
  },
  {
   "cell_type": "markdown",
   "metadata": {},
   "source": [
    "###  Стоимость заказов"
   ]
  },
  {
   "cell_type": "code",
   "execution_count": 32,
   "metadata": {},
   "outputs": [
    {
     "data": {
      "text/html": [
       "<div>\n",
       "<style scoped>\n",
       "    .dataframe tbody tr th:only-of-type {\n",
       "        vertical-align: middle;\n",
       "    }\n",
       "\n",
       "    .dataframe tbody tr th {\n",
       "        vertical-align: top;\n",
       "    }\n",
       "\n",
       "    .dataframe thead th {\n",
       "        text-align: right;\n",
       "    }\n",
       "</style>\n",
       "<table border=\"1\" class=\"dataframe\">\n",
       "  <thead>\n",
       "    <tr style=\"text-align: right;\">\n",
       "      <th></th>\n",
       "      <th>0</th>\n",
       "    </tr>\n",
       "    <tr>\n",
       "      <th>group</th>\n",
       "      <th></th>\n",
       "    </tr>\n",
       "  </thead>\n",
       "  <tbody>\n",
       "    <tr>\n",
       "      <th>B</th>\n",
       "      <td>0</td>\n",
       "    </tr>\n",
       "    <tr>\n",
       "      <th>B</th>\n",
       "      <td>1</td>\n",
       "    </tr>\n",
       "    <tr>\n",
       "      <th>A</th>\n",
       "      <td>2</td>\n",
       "    </tr>\n",
       "    <tr>\n",
       "      <th>B</th>\n",
       "      <td>3</td>\n",
       "    </tr>\n",
       "    <tr>\n",
       "      <th>B</th>\n",
       "      <td>4</td>\n",
       "    </tr>\n",
       "    <tr>\n",
       "      <th>...</th>\n",
       "      <td>...</td>\n",
       "    </tr>\n",
       "    <tr>\n",
       "      <th>B</th>\n",
       "      <td>1192</td>\n",
       "    </tr>\n",
       "    <tr>\n",
       "      <th>A</th>\n",
       "      <td>1193</td>\n",
       "    </tr>\n",
       "    <tr>\n",
       "      <th>A</th>\n",
       "      <td>1194</td>\n",
       "    </tr>\n",
       "    <tr>\n",
       "      <th>A</th>\n",
       "      <td>1195</td>\n",
       "    </tr>\n",
       "    <tr>\n",
       "      <th>B</th>\n",
       "      <td>1196</td>\n",
       "    </tr>\n",
       "  </tbody>\n",
       "</table>\n",
       "<p>1197 rows × 1 columns</p>\n",
       "</div>"
      ],
      "text/plain": [
       "          0\n",
       "group      \n",
       "B         0\n",
       "B         1\n",
       "A         2\n",
       "B         3\n",
       "B         4\n",
       "...     ...\n",
       "B      1192\n",
       "A      1193\n",
       "A      1194\n",
       "A      1195\n",
       "B      1196\n",
       "\n",
       "[1197 rows x 1 columns]"
      ]
     },
     "metadata": {},
     "output_type": "display_data"
    },
    {
     "data": {
      "image/png": "[encoded data removed]",
      "text/plain": [
       "<Figure size 432x288 with 1 Axes>"
      ]
     },
     "metadata": {
      "needs_background": "light"
     },
     "output_type": "display_data"
    }
   ],
   "source": [
    "# Построим точечную диаграмму стоимости заказа с помощью метода scatter()\n",
    "\n",
    "x_values = pd.DataFrame((range(0,len(orders['revenue']))), orders['group'])\n",
    "display (x_values)\n",
    "plt.scatter(x_values, orders['revenue'])\n",
    "plt.title ('Распределение стоимости заказов'); "
   ]
  },
  {
   "cell_type": "markdown",
   "metadata": {},
   "source": [
    "Мы видим, что стоимость подавляющего большинства заказов не превышает отметки в 50 тысяч рублей."
   ]
  },
  {
   "cell_type": "code",
   "execution_count": 33,
   "metadata": {},
   "outputs": [
    {
     "name": "stdout",
     "output_type": "stream",
     "text": [
      "[18168.  28000.  58233.2]\n"
     ]
    }
   ],
   "source": [
    "# Посчитаем 95-й и 99-й перцентили стоимости заказов. \n",
    "\n",
    "print(np.percentile(orders['revenue'], [90, 95, 99])) "
   ]
  },
  {
   "cell_type": "markdown",
   "metadata": {},
   "source": [
    "Подсчет перцентилей показал, что стоимость 90% заказов не превышает 18 тысячи рублей, лишь 5% заказов дороже 28 тысяч рублей, и лишь 1% заказов дороже 58 тысяч рублей. Представляется оправданным установить верхнюю границу для определения аномалий в 30 тысяч рублей."
   ]
  },
  {
   "cell_type": "markdown",
   "metadata": {},
   "source": [
    "### Статистическая значимость различий в среднем количестве заказов между группами по «сырым» данным"
   ]
  },
  {
   "cell_type": "markdown",
   "metadata": {},
   "source": [
    "Для начала сформулируем гипотезы. \n",
    "\n",
    "**Нулевая гипотеза**: различий в среднем количестве заказов между группами нет.     \n",
    " **Альтернативная гипотеза**: различия в среднем между группами есть."
   ]
  },
  {
   "cell_type": "code",
   "execution_count": 34,
   "metadata": {},
   "outputs": [
    {
     "name": "stdout",
     "output_type": "stream",
     "text": [
      "     userId  orders\n",
      "0   8300375       1\n",
      "1  11685486       1\n",
      "2  54447517       1\n",
      "3  66685450       1\n",
      "4  78758296       1\n",
      "     userId  orders\n",
      "0   5114589       1\n",
      "1   6958315       1\n",
      "2   8300375       1\n",
      "3  39475350       1\n",
      "4  47206413       1\n"
     ]
    }
   ],
   "source": [
    "# создадим переменные ordersByUsersA и ordersByUsersB и сохраним число заказов для каждого пользователя:\n",
    "\n",
    "ordersByUsersA = (\n",
    "    orders[orders['group'] == 'A']\n",
    "    .groupby('visitorId', as_index=False)\n",
    "    .agg({'transactionId': pd.Series.nunique}))\n",
    "\n",
    "ordersByUsersA.columns = ['userId', 'orders']\n",
    "print (ordersByUsersA.head(5))\n",
    "\n",
    "ordersByUsersB = (\n",
    "    orders[orders['group'] == 'B']\n",
    "    .groupby('visitorId', as_index=False)\n",
    "    .agg({'transactionId': pd.Series.nunique}))\n",
    "\n",
    "ordersByUsersB.columns = ['userId', 'orders']\n",
    "print (ordersByUsersB.head(5))"
   ]
  },
  {
   "cell_type": "code",
   "execution_count": 35,
   "metadata": {},
   "outputs": [],
   "source": [
    "# создадим переменные с информацией о количестве посетителей каждый день для каждой из групп:\n",
    "\n",
    "visitorsADaily = visitors[visitors['group'] == 'A'][['date', 'visitors']]\n",
    "visitorsADaily.columns = ['date', 'visitorsPerDateA']\n",
    "\n",
    "visitorsBDaily = visitors[visitors['group'] == 'B'][['date', 'visitors']]\n",
    "visitorsBDaily.columns = ['date', 'visitorsPerDateB']"
   ]
  },
  {
   "cell_type": "code",
   "execution_count": 36,
   "metadata": {},
   "outputs": [],
   "source": [
    "# объявим переменные sampleA и sampleB, в которых \n",
    "# пользователям с заказами будет соответствовать число заказов пользователя,\n",
    "# а пользователям без заказов — нули.\n",
    "\n",
    "sampleA = pd.concat([ordersByUsersA['orders'],pd.Series(0, index=np.arange(\n",
    "    visitorsADaily['visitorsPerDateA'].sum() - len(ordersByUsersA['orders'])), name='orders')],axis=0)\n",
    "sampleB = pd.concat([ordersByUsersB['orders'],pd.Series(0, index=np.arange(\n",
    "    visitorsBDaily['visitorsPerDateB'].sum() - len(ordersByUsersB['orders'])), name='orders')],axis=0) \n"
   ]
  },
  {
   "cell_type": "code",
   "execution_count": 37,
   "metadata": {
    "scrolled": true
   },
   "outputs": [
    {
     "name": "stdout",
     "output_type": "stream",
     "text": [
      "Cтатистическая значимость различия среднего количества заказов по сырым данным: 0.016792355056752608\n"
     ]
    }
   ],
   "source": [
    "# рассчитаем статистическую значимость различия среднего количества заказов с помощью теста Манна-Уитни\n",
    "\n",
    "print ('Cтатистическая значимость различия среднего количества заказов по сырым данным:', stats.mannwhitneyu(sampleA, sampleB)[1])"
   ]
  },
  {
   "cell_type": "markdown",
   "metadata": {},
   "source": [
    "Получившийся p-value меньше 0.05. Значит, нулевую гипотезу о том, что статистически значимых различий в среднем числе заказов между группами нет, необходимо отвергнуть** и принять альтернативную гипотезу **о наличии статистически значимой разницы в среднем числе заказов между группами А и В**. "
   ]
  },
  {
   "cell_type": "code",
   "execution_count": 38,
   "metadata": {},
   "outputs": [
    {
     "name": "stdout",
     "output_type": "stream",
     "text": [
      "Значение относительного прироста среднего числа заказов группы B по сравнению с группой А по сырым данным: 0.138\n"
     ]
    }
   ],
   "source": [
    "# выведем на экран значение относительного прироста среднего числа заказов группы B\n",
    "\n",
    "print('Значение относительного прироста среднего числа заказов группы B по сравнению с группой А по сырым данным:' , \"{0:.3f}\".format(sampleB.mean() / sampleA.mean() - 1))"
   ]
  },
  {
   "cell_type": "markdown",
   "metadata": {},
   "source": [
    "Относительный прирост среднего числа заказов в группе В по сравнению с группой А составляет 13,8 процентов"
   ]
  },
  {
   "cell_type": "markdown",
   "metadata": {},
   "source": [
    "### Статистическая значимость различий в среднем чеке заказа между группами по «сырым» данным."
   ]
  },
  {
   "cell_type": "markdown",
   "metadata": {},
   "source": [
    "Далее проверим статистическую значимость различий в среднем чеке между группами А и В. \n",
    "\n",
    "**Нулевая гипотеза:** различий в среднем чеке между группами нет.       \n",
    " **Альтернативная гипотеза:** различия в среднем чеке между группами есть."
   ]
  },
  {
   "cell_type": "code",
   "execution_count": 39,
   "metadata": {},
   "outputs": [
    {
     "name": "stdout",
     "output_type": "stream",
     "text": [
      "Статистическая значимость различий в среднем чеке заказа между группами по «сырым» данным: 0.7292909855432458\n"
     ]
    }
   ],
   "source": [
    "# рассчитаем статистическую значимость различия среднего чека с помощью теста Манна-Уитни\n",
    "\n",
    "print('Статистическая значимость различий в среднем чеке заказа между группами по «сырым» данным:', stats.mannwhitneyu(\n",
    "    orders[orders['group']=='A']['revenue'], orders[orders['group']=='B']['revenue'])[1])"
   ]
  },
  {
   "cell_type": "markdown",
   "metadata": {},
   "source": [
    "Получившийся p-value больше 0.05, следовательно, мы не отвергаем нулевую гипотезу об **отсутствии статистически значимых различий в среднем чеке в группах А и В**"
   ]
  },
  {
   "cell_type": "code",
   "execution_count": 40,
   "metadata": {},
   "outputs": [
    {
     "name": "stdout",
     "output_type": "stream",
     "text": [
      "значение относительного прироста среднего чека в группе B по сравнению с группой А по сырым данным: 0.259\n"
     ]
    }
   ],
   "source": [
    "# выведем на экран значение относительного прироста среднего чека в группе B:\n",
    "\n",
    "print('значение относительного прироста среднего чека в группе B по сравнению с группой А по сырым данным:','{0:.3f}'.format(orders[orders['group']=='B']['revenue'].mean()/\n",
    "                       orders[orders['group']=='A']['revenue'].mean()-1))"
   ]
  },
  {
   "cell_type": "markdown",
   "metadata": {},
   "source": [
    "Относительный прирост значения среднего чека в группе В по сравнению с группой А составляет 25,9 процентов"
   ]
  },
  {
   "cell_type": "markdown",
   "metadata": {},
   "source": [
    "### Статистическая значимость различий в среднем количестве заказов между группами по «очищенным» данным"
   ]
  },
  {
   "cell_type": "markdown",
   "metadata": {},
   "source": [
    "Для начала необходимо \"очистить\" данные от аномальных значений, находящихся за пределами верхних границ, определенных нами ранее (заказы не дороже 30 тысяч рублей и пользователи с количеством заказов не более трех)"
   ]
  },
  {
   "cell_type": "code",
   "execution_count": 41,
   "metadata": {},
   "outputs": [
    {
     "name": "stdout",
     "output_type": "stream",
     "text": [
      "57\n"
     ]
    }
   ],
   "source": [
    "# введем переменные для обозначения границы аномалий:\n",
    "many_orders = 3\n",
    "expensive_order = 30000\n",
    "\n",
    "# сохраним в переменную usersWithManyOrders всех пользователей с количеством заказов больше 3:\n",
    "usersWithManyOrders = pd.concat(\n",
    "    [ordersByUsersA[ordersByUsersA['orders'] > many_orders]['userId'],\n",
    "     ordersByUsersB[ordersByUsersB['orders'] > many_orders]['userId'],],\n",
    "    axis=0)\n",
    "\n",
    "# сохраним в переменную usersWithExpensiveOrders пользователей с заказами дороже 30 тысяч рублей:\n",
    "usersWithExpensiveOrders = orders[orders['revenue'] > expensive_order]['visitorId']\n",
    "\n",
    "# объединим всех аномальных пользователей в таблице abnormalUsers и удалим дубликаты:\n",
    "abnormalUsers = (pd.concat([usersWithManyOrders, usersWithExpensiveOrders], axis=0).drop_duplicates())\n",
    "\n",
    "# посчитаем общее число аномальных пользователей:\n",
    "print(abnormalUsers.shape[0])"
   ]
  },
  {
   "cell_type": "markdown",
   "metadata": {},
   "source": [
    "Итак, всего было выявлено 57 аномальных пользователей, чьи действия могли существенно повлиять на результаты теста."
   ]
  },
  {
   "cell_type": "code",
   "execution_count": 42,
   "metadata": {},
   "outputs": [],
   "source": [
    "# подготовим выборки количества заказов по пользователям по группам теста и сохраним их в новые переменные:\n",
    "\n",
    "sampleAFiltered = pd.concat([ordersByUsersA[np.logical_not(ordersByUsersA['userId'].isin(abnormalUsers))]\n",
    "                             ['orders'],\n",
    "    pd.Series(0, index=np.arange(\n",
    "    visitorsADaily['visitorsPerDateA'].sum() - len(ordersByUsersA['orders'])), name='orders')],axis=0)\n",
    "\n",
    "sampleBFiltered = pd.concat([ordersByUsersB[np.logical_not(ordersByUsersB['userId'].isin(abnormalUsers))]\n",
    "                             ['orders'],\n",
    "    pd.Series(0, index=np.arange(\n",
    "    visitorsBDaily['visitorsPerDateB'].sum() - len(ordersByUsersB['orders'])), name='orders')],axis=0)"
   ]
  },
  {
   "cell_type": "markdown",
   "metadata": {},
   "source": [
    "Теперь сформулируем гипотезы. \n",
    "\n",
    "**Нулевая гипотеза**: различий в среднем количестве заказов между группами нет.     \n",
    " **Альтернативная гипотеза**: различия в среднем между группами есть."
   ]
  },
  {
   "cell_type": "code",
   "execution_count": 43,
   "metadata": {},
   "outputs": [
    {
     "name": "stdout",
     "output_type": "stream",
     "text": [
      "Cтатистическая значимость различия среднего количества заказов по очищенным данным: 0.01831750089424907\n"
     ]
    }
   ],
   "source": [
    "# рассчитаем статистическую значимость различия среднего количества заказов с помощью теста Манна-Уитни\n",
    "\n",
    "print ('Cтатистическая значимость различия среднего количества заказов по очищенным данным:', \n",
    "       stats.mannwhitneyu(sampleAFiltered, sampleBFiltered)[1])"
   ]
  },
  {
   "cell_type": "markdown",
   "metadata": {},
   "source": [
    "Получившийся p-value немного вырос, однако он все равно меньше 0.05. Значит, нулевую гипотезу о том, что статистически значимых различий в среднем числе заказов между группами нет, необходимо отвергнуть и принять альтернативную гипотезу **о наличии статистически значимой разницы в среднем числе заказов между группами А и В**."
   ]
  },
  {
   "cell_type": "code",
   "execution_count": 44,
   "metadata": {},
   "outputs": [
    {
     "name": "stdout",
     "output_type": "stream",
     "text": [
      "Значение относительного прироста среднего числа заказов группы B по сравнению с группой А по очищенным данным: 0.148\n"
     ]
    }
   ],
   "source": [
    "# выведем на экран значение относительного прироста среднего числа заказов группы B\n",
    "\n",
    "print('Значение относительного прироста среднего числа заказов группы B по сравнению с группой А по очищенным данным:','{0:.3f}'.format(sampleBFiltered.mean()/sampleAFiltered.mean()-1))"
   ]
  },
  {
   "cell_type": "markdown",
   "metadata": {},
   "source": [
    "Относительный прирост среднего числа заказов в группе В по сравнению с группой А вырос на один процент по сравнению с \"сырыми\" данными и составляет 14,8 процентов"
   ]
  },
  {
   "cell_type": "markdown",
   "metadata": {},
   "source": [
    "### Статистическая значимость различий в среднем чеке заказа между группами по «очищенным» данным"
   ]
  },
  {
   "cell_type": "markdown",
   "metadata": {},
   "source": [
    "Теперь проверим статистическую значимость различий в среднем чеке между группами А и В. \n",
    "\n",
    "**Нулевая гипотеза:** различий в среднем чеке между группами нет.       \n",
    " **Альтернативная гипотеза:** различия в среднем чеке между группами есть."
   ]
  },
  {
   "cell_type": "code",
   "execution_count": 45,
   "metadata": {},
   "outputs": [
    {
     "name": "stdout",
     "output_type": "stream",
     "text": [
      "Статистическая значимость различий в среднем чеке заказа между группами по «очищенным» данным: 0.12636916446013835\n"
     ]
    }
   ],
   "source": [
    "# рассчитаем статистическую значимость различия среднего чека с помощью теста Манна-Уитни\n",
    "\n",
    "print('Статистическая значимость различий в среднем чеке заказа между группами по «очищенным» данным:', stats.mannwhitneyu(\n",
    "    orders[np.logical_and(orders['group'] == 'A', np.logical_not(orders['visitorId'].isin(abnormalUsers)))]['revenue'],\n",
    "    orders[orders['group']=='B']['revenue'])[1])\n",
    "\n"
   ]
  },
  {
   "cell_type": "markdown",
   "metadata": {},
   "source": [
    "Получившийся p-value значительно вырос и все ещё больше 0.05, следовательно, мы не отвергаем нулевую гипотезу об **отсутствии статистически значимых различий в среднем чеке в группах А и В**"
   ]
  },
  {
   "cell_type": "code",
   "execution_count": 46,
   "metadata": {},
   "outputs": [
    {
     "name": "stdout",
     "output_type": "stream",
     "text": [
      "значение относительного прироста среднего чека в группе B  по очищенным данным: -0.020\n"
     ]
    }
   ],
   "source": [
    "# выведем на экран значение относительного прироста среднего чека в группе B:\n",
    "\n",
    "print('значение относительного прироста среднего чека в группе B  по очищенным данным:', '{0:.3f}'.format(\n",
    "    orders[np.logical_and (orders['group']=='B', np.logical_not(\n",
    "    orders['visitorId'].isin(abnormalUsers)))]['revenue'].mean() /\n",
    "        orders[np.logical_and (orders['group']=='A', np.logical_not(\n",
    "        orders['visitorId'].isin(abnormalUsers)))]['revenue'].mean() - 1))\n",
    "               "
   ]
  },
  {
   "cell_type": "markdown",
   "metadata": {},
   "source": [
    "Мы видим, что с учетом очищенных данных средний чек в группе В оказался даже **ниже, чем в группе А.**"
   ]
  },
  {
   "cell_type": "markdown",
   "metadata": {},
   "source": [
    "## Результаты A/B-теста и выводы"
   ]
  },
  {
   "cell_type": "markdown",
   "metadata": {},
   "source": [
    "По итогам проведенного A/B-теста можно сделать следующие выводы:\n",
    "    \n",
    "1) До фильтрации аномалий группа В показывала лучший результат практически по всем показателям, однако это было достигнуто за счет нескольких отдельных крупных заказов;     \n",
    " 2) Есть статистически значимое различие по среднему количеству заказов между группами, причем оно наблюдается как по сырым данным, так и после фильтрации аномалий;    \n",
    "  3) По среднему чеку статистически значимого различия между группами не наблюдается как по сырым данным, так и после фильтрации аномалий;     \n",
    "   4) После фильтрации аномалий зафиксировано снижение среднего чека в группе В, тогда как до фильтрации он был значительно выше (на 25%).\n",
    "   \n",
    "Исходя из указанных результатов и тестируемой гипотезы (направленной на увеличение выручки) следует **остановить тест, признать его успешным, зафиксировать наличие различий между группами по среднему количеству заказов (в пользу группы В) и перейти к проверке следующей гипотезы.**"
   ]
  }
 ],
 "metadata": {
  "ExecuteTimeLog": [
   {
    "duration": 49,
    "start_time": "2022-10-31T20:09:49.312Z"
   },
   {
    "duration": 475,
    "start_time": "2022-10-31T20:09:51.647Z"
   },
   {
    "duration": 66,
    "start_time": "2022-10-31T20:09:53.162Z"
   },
   {
    "duration": 17,
    "start_time": "2022-10-31T20:10:05.678Z"
   },
   {
    "duration": 4,
    "start_time": "2022-10-31T20:25:49.810Z"
   },
   {
    "duration": 5,
    "start_time": "2022-10-31T20:26:00.542Z"
   },
   {
    "duration": 6,
    "start_time": "2022-10-31T20:26:53.975Z"
   },
   {
    "duration": 8,
    "start_time": "2022-10-31T20:27:04.971Z"
   },
   {
    "duration": 10,
    "start_time": "2022-10-31T20:27:10.659Z"
   },
   {
    "duration": 12,
    "start_time": "2022-10-31T20:28:19.689Z"
   },
   {
    "duration": 13,
    "start_time": "2022-10-31T20:29:38.792Z"
   },
   {
    "duration": 18,
    "start_time": "2022-10-31T20:31:41.795Z"
   },
   {
    "duration": 13,
    "start_time": "2022-10-31T20:31:47.119Z"
   },
   {
    "duration": 12,
    "start_time": "2022-10-31T20:42:39.689Z"
   },
   {
    "duration": 12,
    "start_time": "2022-10-31T20:42:40.208Z"
   },
   {
    "duration": 125,
    "start_time": "2022-10-31T20:43:11.292Z"
   },
   {
    "duration": 2,
    "start_time": "2022-10-31T20:43:44.658Z"
   },
   {
    "duration": 9,
    "start_time": "2022-10-31T20:44:00.252Z"
   },
   {
    "duration": 43,
    "start_time": "2022-10-31T20:45:09.656Z"
   },
   {
    "duration": 61,
    "start_time": "2022-10-31T20:45:18.912Z"
   },
   {
    "duration": 9,
    "start_time": "2022-10-31T20:45:19.410Z"
   },
   {
    "duration": 8,
    "start_time": "2022-10-31T20:45:19.955Z"
   },
   {
    "duration": 11,
    "start_time": "2022-10-31T20:45:48.204Z"
   },
   {
    "duration": 12,
    "start_time": "2022-10-31T20:45:49.482Z"
   },
   {
    "duration": 11,
    "start_time": "2022-10-31T20:45:50.213Z"
   },
   {
    "duration": 482,
    "start_time": "2022-11-01T18:54:27.648Z"
   },
   {
    "duration": 0,
    "start_time": "2022-11-01T18:54:28.132Z"
   },
   {
    "duration": 0,
    "start_time": "2022-11-01T18:54:28.133Z"
   },
   {
    "duration": 0,
    "start_time": "2022-11-01T18:54:28.134Z"
   },
   {
    "duration": 0,
    "start_time": "2022-11-01T18:54:28.135Z"
   },
   {
    "duration": 0,
    "start_time": "2022-11-01T18:54:28.136Z"
   },
   {
    "duration": 0,
    "start_time": "2022-11-01T18:54:28.137Z"
   },
   {
    "duration": 0,
    "start_time": "2022-11-01T18:54:28.138Z"
   },
   {
    "duration": 0,
    "start_time": "2022-11-01T18:54:28.139Z"
   },
   {
    "duration": 0,
    "start_time": "2022-11-01T18:54:28.140Z"
   },
   {
    "duration": 0,
    "start_time": "2022-11-01T18:54:28.141Z"
   },
   {
    "duration": 0,
    "start_time": "2022-11-01T18:54:28.142Z"
   },
   {
    "duration": 7,
    "start_time": "2022-11-01T18:54:35.895Z"
   },
   {
    "duration": 9,
    "start_time": "2022-11-01T18:54:45.061Z"
   },
   {
    "duration": 74,
    "start_time": "2022-11-01T18:54:52.501Z"
   },
   {
    "duration": 422,
    "start_time": "2022-11-01T18:55:01.581Z"
   },
   {
    "duration": 28,
    "start_time": "2022-11-01T18:55:03.396Z"
   },
   {
    "duration": 13,
    "start_time": "2022-11-01T18:55:04.796Z"
   },
   {
    "duration": 4,
    "start_time": "2022-11-01T18:55:05.959Z"
   },
   {
    "duration": 176,
    "start_time": "2022-11-01T18:55:06.969Z"
   },
   {
    "duration": 17,
    "start_time": "2022-11-01T18:55:11.336Z"
   },
   {
    "duration": 36,
    "start_time": "2022-11-01T18:56:38.794Z"
   },
   {
    "duration": 5,
    "start_time": "2022-11-01T19:02:09.866Z"
   },
   {
    "duration": 6,
    "start_time": "2022-11-01T19:02:36.572Z"
   },
   {
    "duration": 8,
    "start_time": "2022-11-01T19:02:39.597Z"
   },
   {
    "duration": 3,
    "start_time": "2022-11-01T19:03:03.394Z"
   },
   {
    "duration": 8,
    "start_time": "2022-11-01T19:03:38.946Z"
   },
   {
    "duration": 7,
    "start_time": "2022-11-01T19:03:45.313Z"
   },
   {
    "duration": 5,
    "start_time": "2022-11-01T19:04:06.604Z"
   },
   {
    "duration": 5,
    "start_time": "2022-11-01T19:04:26.040Z"
   },
   {
    "duration": 4,
    "start_time": "2022-11-01T19:04:35.666Z"
   },
   {
    "duration": 382,
    "start_time": "2022-11-01T19:09:37.212Z"
   },
   {
    "duration": 4,
    "start_time": "2022-11-01T19:09:39.135Z"
   },
   {
    "duration": 31,
    "start_time": "2022-11-01T19:09:39.141Z"
   },
   {
    "duration": 8,
    "start_time": "2022-11-01T19:09:39.174Z"
   },
   {
    "duration": 5,
    "start_time": "2022-11-01T19:09:39.183Z"
   },
   {
    "duration": 55,
    "start_time": "2022-11-01T19:09:39.190Z"
   },
   {
    "duration": 16,
    "start_time": "2022-11-01T19:09:39.247Z"
   },
   {
    "duration": 5,
    "start_time": "2022-11-01T19:09:39.264Z"
   },
   {
    "duration": 7,
    "start_time": "2022-11-01T19:09:39.270Z"
   },
   {
    "duration": 8,
    "start_time": "2022-11-01T19:09:39.278Z"
   },
   {
    "duration": 6,
    "start_time": "2022-11-01T19:09:39.288Z"
   },
   {
    "duration": 7,
    "start_time": "2022-11-01T19:09:39.295Z"
   },
   {
    "duration": 13,
    "start_time": "2022-11-01T19:09:39.303Z"
   },
   {
    "duration": 8,
    "start_time": "2022-11-01T19:09:39.317Z"
   },
   {
    "duration": 12,
    "start_time": "2022-11-01T19:09:39.327Z"
   },
   {
    "duration": 14,
    "start_time": "2022-11-01T19:09:39.340Z"
   },
   {
    "duration": 8,
    "start_time": "2022-11-01T19:19:44.539Z"
   },
   {
    "duration": 4,
    "start_time": "2022-11-01T19:19:44.697Z"
   },
   {
    "duration": 5,
    "start_time": "2022-11-01T19:19:44.859Z"
   },
   {
    "duration": 15,
    "start_time": "2022-11-01T19:21:25.437Z"
   },
   {
    "duration": 10,
    "start_time": "2022-11-01T19:21:33.191Z"
   },
   {
    "duration": 28,
    "start_time": "2022-11-01T19:21:33.203Z"
   },
   {
    "duration": 7,
    "start_time": "2022-11-01T19:21:33.232Z"
   },
   {
    "duration": 9,
    "start_time": "2022-11-01T19:21:33.241Z"
   },
   {
    "duration": 54,
    "start_time": "2022-11-01T19:21:33.251Z"
   },
   {
    "duration": 17,
    "start_time": "2022-11-01T19:21:33.307Z"
   },
   {
    "duration": 4,
    "start_time": "2022-11-01T19:21:33.326Z"
   },
   {
    "duration": 7,
    "start_time": "2022-11-01T19:21:33.332Z"
   },
   {
    "duration": 19,
    "start_time": "2022-11-01T19:21:33.341Z"
   },
   {
    "duration": 3,
    "start_time": "2022-11-01T19:21:33.362Z"
   },
   {
    "duration": 11,
    "start_time": "2022-11-01T19:21:33.367Z"
   },
   {
    "duration": 14,
    "start_time": "2022-11-01T19:21:33.379Z"
   },
   {
    "duration": 11,
    "start_time": "2022-11-01T19:21:33.394Z"
   },
   {
    "duration": 13,
    "start_time": "2022-11-01T19:21:33.407Z"
   },
   {
    "duration": 11,
    "start_time": "2022-11-01T19:21:33.421Z"
   },
   {
    "duration": 7,
    "start_time": "2022-11-01T19:21:33.433Z"
   },
   {
    "duration": 13,
    "start_time": "2022-11-01T19:22:11.559Z"
   },
   {
    "duration": 151,
    "start_time": "2022-11-01T19:23:55.557Z"
   },
   {
    "duration": 260,
    "start_time": "2022-11-01T19:29:12.327Z"
   },
   {
    "duration": 272,
    "start_time": "2022-11-01T19:29:34.241Z"
   },
   {
    "duration": 274,
    "start_time": "2022-11-01T19:29:49.557Z"
   },
   {
    "duration": 6,
    "start_time": "2022-11-01T19:32:02.265Z"
   },
   {
    "duration": 14,
    "start_time": "2022-11-01T19:32:41.038Z"
   },
   {
    "duration": 15,
    "start_time": "2022-11-01T19:33:08.550Z"
   },
   {
    "duration": 7,
    "start_time": "2022-11-01T19:42:02.215Z"
   },
   {
    "duration": 6,
    "start_time": "2022-11-01T19:42:39.085Z"
   },
   {
    "duration": 6,
    "start_time": "2022-11-01T19:42:50.894Z"
   },
   {
    "duration": 221,
    "start_time": "2022-11-01T19:43:27.145Z"
   },
   {
    "duration": 291,
    "start_time": "2022-11-01T19:47:47.532Z"
   },
   {
    "duration": 171,
    "start_time": "2022-11-01T19:47:59.778Z"
   },
   {
    "duration": 78,
    "start_time": "2022-11-01T19:48:20.552Z"
   },
   {
    "duration": 8,
    "start_time": "2022-11-01T19:48:26.436Z"
   },
   {
    "duration": 10,
    "start_time": "2022-11-01T19:55:43.459Z"
   },
   {
    "duration": 162,
    "start_time": "2022-11-01T19:57:33.421Z"
   },
   {
    "duration": 2,
    "start_time": "2022-11-01T20:05:43.058Z"
   },
   {
    "duration": 9,
    "start_time": "2022-11-01T20:07:20.138Z"
   },
   {
    "duration": 331,
    "start_time": "2022-11-01T20:08:02.563Z"
   },
   {
    "duration": 272,
    "start_time": "2022-11-01T20:08:34.979Z"
   },
   {
    "duration": 54,
    "start_time": "2022-11-02T14:59:17.751Z"
   },
   {
    "duration": 1237,
    "start_time": "2022-11-02T14:59:19.798Z"
   },
   {
    "duration": 77,
    "start_time": "2022-11-02T14:59:21.038Z"
   },
   {
    "duration": 12,
    "start_time": "2022-11-02T14:59:21.116Z"
   },
   {
    "duration": 7,
    "start_time": "2022-11-02T14:59:21.129Z"
   },
   {
    "duration": 165,
    "start_time": "2022-11-02T14:59:21.137Z"
   },
   {
    "duration": 17,
    "start_time": "2022-11-02T14:59:21.304Z"
   },
   {
    "duration": 5,
    "start_time": "2022-11-02T14:59:21.322Z"
   },
   {
    "duration": 8,
    "start_time": "2022-11-02T14:59:21.328Z"
   },
   {
    "duration": 19,
    "start_time": "2022-11-02T14:59:21.337Z"
   },
   {
    "duration": 7,
    "start_time": "2022-11-02T14:59:21.359Z"
   },
   {
    "duration": 20,
    "start_time": "2022-11-02T14:59:21.367Z"
   },
   {
    "duration": 15,
    "start_time": "2022-11-02T14:59:21.389Z"
   },
   {
    "duration": 9,
    "start_time": "2022-11-02T14:59:21.405Z"
   },
   {
    "duration": 11,
    "start_time": "2022-11-02T14:59:21.416Z"
   },
   {
    "duration": 15,
    "start_time": "2022-11-02T14:59:21.428Z"
   },
   {
    "duration": 326,
    "start_time": "2022-11-02T14:59:21.445Z"
   },
   {
    "duration": 27,
    "start_time": "2022-11-02T14:59:21.772Z"
   },
   {
    "duration": 20,
    "start_time": "2022-11-02T14:59:21.801Z"
   },
   {
    "duration": 248,
    "start_time": "2022-11-02T14:59:21.822Z"
   },
   {
    "duration": 169,
    "start_time": "2022-11-02T14:59:22.071Z"
   },
   {
    "duration": 305,
    "start_time": "2022-11-02T14:59:22.241Z"
   },
   {
    "duration": 193,
    "start_time": "2022-11-02T14:59:22.547Z"
   },
   {
    "duration": 302,
    "start_time": "2022-11-02T15:06:30.151Z"
   },
   {
    "duration": 275,
    "start_time": "2022-11-02T15:06:58.292Z"
   },
   {
    "duration": 151,
    "start_time": "2022-11-02T15:07:57.299Z"
   },
   {
    "duration": 259,
    "start_time": "2022-11-02T15:08:10.500Z"
   },
   {
    "duration": 3,
    "start_time": "2022-11-02T15:20:57.493Z"
   },
   {
    "duration": 2,
    "start_time": "2022-11-02T15:21:48.511Z"
   },
   {
    "duration": 58,
    "start_time": "2022-11-02T15:34:40.915Z"
   },
   {
    "duration": 8,
    "start_time": "2022-11-02T15:34:54.967Z"
   },
   {
    "duration": 9,
    "start_time": "2022-11-02T15:35:34.870Z"
   },
   {
    "duration": 109,
    "start_time": "2022-11-02T15:36:30.889Z"
   },
   {
    "duration": 514,
    "start_time": "2022-11-02T15:40:20.684Z"
   },
   {
    "duration": 4,
    "start_time": "2022-11-02T15:40:51.964Z"
   },
   {
    "duration": 1147,
    "start_time": "2022-11-02T15:46:39.885Z"
   },
   {
    "duration": 184,
    "start_time": "2022-11-02T15:47:06.535Z"
   },
   {
    "duration": 112,
    "start_time": "2022-11-02T15:47:53.894Z"
   },
   {
    "duration": 7,
    "start_time": "2022-11-02T15:50:26.745Z"
   },
   {
    "duration": 6,
    "start_time": "2022-11-02T15:50:46.114Z"
   },
   {
    "duration": 11,
    "start_time": "2022-11-02T15:50:55.493Z"
   },
   {
    "duration": 8,
    "start_time": "2022-11-02T15:51:00.769Z"
   },
   {
    "duration": 7,
    "start_time": "2022-11-02T15:51:22.918Z"
   },
   {
    "duration": 74,
    "start_time": "2022-11-02T15:53:10.193Z"
   },
   {
    "duration": 4,
    "start_time": "2022-11-02T15:54:05.835Z"
   },
   {
    "duration": 79,
    "start_time": "2022-11-02T15:56:17.664Z"
   },
   {
    "duration": 163,
    "start_time": "2022-11-02T19:40:12.137Z"
   },
   {
    "duration": 121,
    "start_time": "2022-11-02T19:41:35.535Z"
   },
   {
    "duration": 134,
    "start_time": "2022-11-02T19:42:04.013Z"
   },
   {
    "duration": 1102,
    "start_time": "2022-11-02T19:42:46.366Z"
   },
   {
    "duration": 1098,
    "start_time": "2022-11-02T19:56:20.781Z"
   },
   {
    "duration": 4,
    "start_time": "2022-11-02T19:56:35.166Z"
   },
   {
    "duration": 1078,
    "start_time": "2022-11-02T19:56:39.097Z"
   },
   {
    "duration": 3,
    "start_time": "2022-11-02T19:56:47.055Z"
   },
   {
    "duration": 1123,
    "start_time": "2022-11-02T19:56:47.913Z"
   },
   {
    "duration": 69,
    "start_time": "2022-11-02T19:57:23.959Z"
   },
   {
    "duration": 4,
    "start_time": "2022-11-02T19:59:46.455Z"
   },
   {
    "duration": 77,
    "start_time": "2022-11-02T20:01:32.578Z"
   },
   {
    "duration": 70,
    "start_time": "2022-11-02T20:01:51.020Z"
   },
   {
    "duration": 6,
    "start_time": "2022-11-02T20:02:13.758Z"
   },
   {
    "duration": 4,
    "start_time": "2022-11-02T20:02:22.786Z"
   },
   {
    "duration": 7,
    "start_time": "2022-11-02T20:02:28.023Z"
   },
   {
    "duration": 7,
    "start_time": "2022-11-02T20:02:48.726Z"
   },
   {
    "duration": 5,
    "start_time": "2022-11-02T20:03:39.194Z"
   },
   {
    "duration": 8,
    "start_time": "2022-11-02T20:06:05.789Z"
   },
   {
    "duration": 3,
    "start_time": "2022-11-02T20:06:25.921Z"
   },
   {
    "duration": 3,
    "start_time": "2022-11-02T20:06:28.110Z"
   },
   {
    "duration": 55,
    "start_time": "2022-11-02T20:06:28.115Z"
   },
   {
    "duration": 7,
    "start_time": "2022-11-02T20:06:28.172Z"
   },
   {
    "duration": 31,
    "start_time": "2022-11-02T20:06:28.181Z"
   },
   {
    "duration": 86,
    "start_time": "2022-11-02T20:06:28.214Z"
   },
   {
    "duration": 15,
    "start_time": "2022-11-02T20:06:28.302Z"
   },
   {
    "duration": 19,
    "start_time": "2022-11-02T20:06:28.318Z"
   },
   {
    "duration": 21,
    "start_time": "2022-11-02T20:06:28.339Z"
   },
   {
    "duration": 34,
    "start_time": "2022-11-02T20:06:28.361Z"
   },
   {
    "duration": 9,
    "start_time": "2022-11-02T20:06:28.396Z"
   },
   {
    "duration": 16,
    "start_time": "2022-11-02T20:06:28.407Z"
   },
   {
    "duration": 29,
    "start_time": "2022-11-02T20:06:28.424Z"
   },
   {
    "duration": 26,
    "start_time": "2022-11-02T20:06:28.455Z"
   },
   {
    "duration": 23,
    "start_time": "2022-11-02T20:06:28.483Z"
   },
   {
    "duration": 24,
    "start_time": "2022-11-02T20:06:28.508Z"
   },
   {
    "duration": 283,
    "start_time": "2022-11-02T20:06:28.533Z"
   },
   {
    "duration": 12,
    "start_time": "2022-11-02T20:06:28.817Z"
   },
   {
    "duration": 35,
    "start_time": "2022-11-02T20:06:28.831Z"
   },
   {
    "duration": 168,
    "start_time": "2022-11-02T20:06:28.868Z"
   },
   {
    "duration": 155,
    "start_time": "2022-11-02T20:06:29.037Z"
   },
   {
    "duration": 243,
    "start_time": "2022-11-02T20:06:29.194Z"
   },
   {
    "duration": 162,
    "start_time": "2022-11-02T20:06:29.439Z"
   },
   {
    "duration": 246,
    "start_time": "2022-11-02T20:06:29.602Z"
   },
   {
    "duration": 9,
    "start_time": "2022-11-02T20:06:29.850Z"
   },
   {
    "duration": 117,
    "start_time": "2022-11-02T20:06:29.861Z"
   },
   {
    "duration": 3,
    "start_time": "2022-11-02T20:06:29.980Z"
   },
   {
    "duration": 136,
    "start_time": "2022-11-02T20:06:29.984Z"
   },
   {
    "duration": 4,
    "start_time": "2022-11-02T20:06:30.122Z"
   },
   {
    "duration": 148,
    "start_time": "2022-11-02T20:06:30.129Z"
   },
   {
    "duration": 7,
    "start_time": "2022-11-02T20:06:30.279Z"
   },
   {
    "duration": 38,
    "start_time": "2022-11-02T20:06:30.288Z"
   },
   {
    "duration": 57,
    "start_time": "2022-11-02T20:06:30.328Z"
   },
   {
    "duration": 4,
    "start_time": "2022-11-02T20:12:42.100Z"
   },
   {
    "duration": 7,
    "start_time": "2022-11-02T20:16:41.632Z"
   },
   {
    "duration": 7,
    "start_time": "2022-11-02T20:17:32.982Z"
   },
   {
    "duration": 5,
    "start_time": "2022-11-02T20:18:36.122Z"
   },
   {
    "duration": 8,
    "start_time": "2022-11-02T20:38:43.603Z"
   },
   {
    "duration": 8,
    "start_time": "2022-11-02T20:39:14.827Z"
   },
   {
    "duration": 7,
    "start_time": "2022-11-02T20:41:45.216Z"
   },
   {
    "duration": 73,
    "start_time": "2022-11-02T20:42:47.333Z"
   },
   {
    "duration": 5,
    "start_time": "2022-11-02T20:47:33.513Z"
   },
   {
    "duration": 6,
    "start_time": "2022-11-02T20:49:02.023Z"
   },
   {
    "duration": 7,
    "start_time": "2022-11-02T20:50:10.861Z"
   },
   {
    "duration": 7,
    "start_time": "2022-11-02T20:51:50.734Z"
   },
   {
    "duration": 1094,
    "start_time": "2022-11-02T20:54:52.742Z"
   },
   {
    "duration": 5,
    "start_time": "2022-11-02T20:56:54.771Z"
   },
   {
    "duration": 8,
    "start_time": "2022-11-02T20:57:39.385Z"
   },
   {
    "duration": 18,
    "start_time": "2022-11-02T20:58:03.557Z"
   },
   {
    "duration": 72,
    "start_time": "2022-11-02T20:59:30.619Z"
   },
   {
    "duration": 5,
    "start_time": "2022-11-02T21:00:16.980Z"
   },
   {
    "duration": 1217,
    "start_time": "2022-11-02T21:04:23.747Z"
   },
   {
    "duration": 8,
    "start_time": "2022-11-02T21:05:12.784Z"
   },
   {
    "duration": 10,
    "start_time": "2022-11-02T21:05:16.613Z"
   },
   {
    "duration": 8,
    "start_time": "2022-11-02T21:05:48.514Z"
   },
   {
    "duration": 11,
    "start_time": "2022-11-02T21:06:13.639Z"
   },
   {
    "duration": 97,
    "start_time": "2022-11-02T21:06:36.359Z"
   },
   {
    "duration": 10,
    "start_time": "2022-11-02T21:06:47.957Z"
   },
   {
    "duration": 4,
    "start_time": "2022-11-02T21:15:14.134Z"
   },
   {
    "duration": 9,
    "start_time": "2022-11-02T21:16:01.849Z"
   },
   {
    "duration": 8,
    "start_time": "2022-11-02T21:16:11.179Z"
   },
   {
    "duration": 88,
    "start_time": "2022-11-02T21:16:49.449Z"
   },
   {
    "duration": 5,
    "start_time": "2022-11-02T21:37:04.681Z"
   },
   {
    "duration": 1180,
    "start_time": "2022-11-03T19:52:52.137Z"
   },
   {
    "duration": 68,
    "start_time": "2022-11-03T19:52:53.319Z"
   },
   {
    "duration": 13,
    "start_time": "2022-11-03T19:52:53.388Z"
   },
   {
    "duration": 4,
    "start_time": "2022-11-03T19:52:53.402Z"
   },
   {
    "duration": 127,
    "start_time": "2022-11-03T19:52:53.409Z"
   },
   {
    "duration": 17,
    "start_time": "2022-11-03T19:52:53.538Z"
   },
   {
    "duration": 7,
    "start_time": "2022-11-03T19:52:53.556Z"
   },
   {
    "duration": 11,
    "start_time": "2022-11-03T19:52:53.564Z"
   },
   {
    "duration": 32,
    "start_time": "2022-11-03T19:52:53.576Z"
   },
   {
    "duration": 4,
    "start_time": "2022-11-03T19:52:53.610Z"
   },
   {
    "duration": 8,
    "start_time": "2022-11-03T19:52:53.616Z"
   },
   {
    "duration": 15,
    "start_time": "2022-11-03T19:52:53.626Z"
   },
   {
    "duration": 9,
    "start_time": "2022-11-03T19:52:53.643Z"
   },
   {
    "duration": 10,
    "start_time": "2022-11-03T19:52:53.655Z"
   },
   {
    "duration": 30,
    "start_time": "2022-11-03T19:52:53.667Z"
   },
   {
    "duration": 312,
    "start_time": "2022-11-03T19:52:53.699Z"
   },
   {
    "duration": 13,
    "start_time": "2022-11-03T19:52:54.012Z"
   },
   {
    "duration": 15,
    "start_time": "2022-11-03T19:52:54.026Z"
   },
   {
    "duration": 251,
    "start_time": "2022-11-03T19:52:54.042Z"
   },
   {
    "duration": 179,
    "start_time": "2022-11-03T19:52:54.295Z"
   },
   {
    "duration": 323,
    "start_time": "2022-11-03T19:52:54.476Z"
   },
   {
    "duration": 179,
    "start_time": "2022-11-03T19:52:54.801Z"
   },
   {
    "duration": 293,
    "start_time": "2022-11-03T19:52:54.981Z"
   },
   {
    "duration": 20,
    "start_time": "2022-11-03T19:52:55.276Z"
   },
   {
    "duration": 118,
    "start_time": "2022-11-03T19:52:55.297Z"
   },
   {
    "duration": 4,
    "start_time": "2022-11-03T19:52:55.416Z"
   },
   {
    "duration": 136,
    "start_time": "2022-11-03T19:52:55.422Z"
   },
   {
    "duration": 5,
    "start_time": "2022-11-03T19:52:55.560Z"
   },
   {
    "duration": 143,
    "start_time": "2022-11-03T19:52:55.566Z"
   },
   {
    "duration": 6,
    "start_time": "2022-11-03T19:52:55.710Z"
   },
   {
    "duration": 18,
    "start_time": "2022-11-03T19:52:55.717Z"
   },
   {
    "duration": 24,
    "start_time": "2022-11-03T19:52:55.737Z"
   },
   {
    "duration": 4,
    "start_time": "2022-11-03T19:52:55.762Z"
   },
   {
    "duration": 10,
    "start_time": "2022-11-03T19:52:55.767Z"
   },
   {
    "duration": 12,
    "start_time": "2022-11-03T19:52:55.779Z"
   },
   {
    "duration": 8,
    "start_time": "2022-11-03T19:52:55.792Z"
   },
   {
    "duration": 12,
    "start_time": "2022-11-03T19:52:55.802Z"
   },
   {
    "duration": 21,
    "start_time": "2022-11-03T19:52:55.815Z"
   },
   {
    "duration": 4,
    "start_time": "2022-11-03T19:52:55.837Z"
   },
   {
    "duration": 13,
    "start_time": "2022-11-03T19:52:55.842Z"
   },
   {
    "duration": 8,
    "start_time": "2022-11-03T19:52:55.858Z"
   },
   {
    "duration": 68,
    "start_time": "2022-11-03T20:10:41.497Z"
   },
   {
    "duration": 53,
    "start_time": "2022-11-03T20:10:59.820Z"
   },
   {
    "duration": 1328,
    "start_time": "2022-11-03T20:11:02.178Z"
   },
   {
    "duration": 73,
    "start_time": "2022-11-03T20:11:03.509Z"
   },
   {
    "duration": 12,
    "start_time": "2022-11-03T20:11:03.584Z"
   },
   {
    "duration": 3,
    "start_time": "2022-11-03T20:11:03.598Z"
   },
   {
    "duration": 170,
    "start_time": "2022-11-03T20:11:03.603Z"
   },
   {
    "duration": 20,
    "start_time": "2022-11-03T20:11:03.776Z"
   },
   {
    "duration": 5,
    "start_time": "2022-11-03T20:11:03.797Z"
   },
   {
    "duration": 8,
    "start_time": "2022-11-03T20:11:03.804Z"
   },
   {
    "duration": 17,
    "start_time": "2022-11-03T20:11:03.813Z"
   },
   {
    "duration": 3,
    "start_time": "2022-11-03T20:11:03.832Z"
   },
   {
    "duration": 25,
    "start_time": "2022-11-03T20:11:03.837Z"
   },
   {
    "duration": 18,
    "start_time": "2022-11-03T20:11:03.864Z"
   },
   {
    "duration": 9,
    "start_time": "2022-11-03T20:11:03.883Z"
   },
   {
    "duration": 16,
    "start_time": "2022-11-03T20:11:03.894Z"
   },
   {
    "duration": 13,
    "start_time": "2022-11-03T20:11:03.911Z"
   },
   {
    "duration": 367,
    "start_time": "2022-11-03T20:11:03.925Z"
   },
   {
    "duration": 11,
    "start_time": "2022-11-03T20:11:04.293Z"
   },
   {
    "duration": 31,
    "start_time": "2022-11-03T20:11:04.306Z"
   },
   {
    "duration": 319,
    "start_time": "2022-11-03T20:11:04.343Z"
   },
   {
    "duration": 201,
    "start_time": "2022-11-03T20:11:04.665Z"
   },
   {
    "duration": 324,
    "start_time": "2022-11-03T20:11:04.871Z"
   },
   {
    "duration": 200,
    "start_time": "2022-11-03T20:11:05.197Z"
   },
   {
    "duration": 296,
    "start_time": "2022-11-03T20:11:05.398Z"
   },
   {
    "duration": 10,
    "start_time": "2022-11-03T20:11:05.696Z"
   },
   {
    "duration": 129,
    "start_time": "2022-11-03T20:11:05.708Z"
   },
   {
    "duration": 6,
    "start_time": "2022-11-03T20:11:05.846Z"
   },
   {
    "duration": 146,
    "start_time": "2022-11-03T20:11:05.856Z"
   },
   {
    "duration": 3,
    "start_time": "2022-11-03T20:11:06.005Z"
   },
   {
    "duration": 156,
    "start_time": "2022-11-03T20:11:06.010Z"
   },
   {
    "duration": 6,
    "start_time": "2022-11-03T20:11:06.168Z"
   },
   {
    "duration": 14,
    "start_time": "2022-11-03T20:11:06.175Z"
   },
   {
    "duration": 26,
    "start_time": "2022-11-03T20:11:06.191Z"
   },
   {
    "duration": 3,
    "start_time": "2022-11-03T20:11:06.219Z"
   },
   {
    "duration": 27,
    "start_time": "2022-11-03T20:11:06.223Z"
   },
   {
    "duration": 22,
    "start_time": "2022-11-03T20:11:06.252Z"
   },
   {
    "duration": 9,
    "start_time": "2022-11-03T20:11:06.276Z"
   },
   {
    "duration": 15,
    "start_time": "2022-11-03T20:11:06.287Z"
   },
   {
    "duration": 23,
    "start_time": "2022-11-03T20:11:06.303Z"
   },
   {
    "duration": 4,
    "start_time": "2022-11-03T20:11:06.328Z"
   },
   {
    "duration": 31,
    "start_time": "2022-11-03T20:11:06.337Z"
   },
   {
    "duration": 7,
    "start_time": "2022-11-03T20:11:06.370Z"
   },
   {
    "duration": 11,
    "start_time": "2022-11-03T20:12:10.299Z"
   },
   {
    "duration": 22,
    "start_time": "2022-11-03T20:12:22.639Z"
   },
   {
    "duration": 12,
    "start_time": "2022-11-03T20:12:27.763Z"
   },
   {
    "duration": 33,
    "start_time": "2022-11-03T20:12:32.932Z"
   },
   {
    "duration": 79,
    "start_time": "2022-11-03T20:14:16.228Z"
   },
   {
    "duration": 18,
    "start_time": "2022-11-03T20:15:16.659Z"
   },
   {
    "duration": 13,
    "start_time": "2022-11-03T20:15:26.860Z"
   },
   {
    "duration": 300,
    "start_time": "2022-11-03T20:17:29.586Z"
   },
   {
    "duration": 318,
    "start_time": "2022-11-03T20:17:55.693Z"
   },
   {
    "duration": 388,
    "start_time": "2022-11-03T20:18:05.482Z"
   },
   {
    "duration": 306,
    "start_time": "2022-11-03T20:18:19.152Z"
   },
   {
    "duration": 184,
    "start_time": "2022-11-03T20:18:30.011Z"
   },
   {
    "duration": 177,
    "start_time": "2022-11-03T20:18:46.650Z"
   },
   {
    "duration": 207,
    "start_time": "2022-11-03T20:19:00.181Z"
   },
   {
    "duration": 330,
    "start_time": "2022-11-03T20:19:14.531Z"
   },
   {
    "duration": 197,
    "start_time": "2022-11-03T20:19:20.762Z"
   },
   {
    "duration": 324,
    "start_time": "2022-11-03T20:19:27.017Z"
   },
   {
    "duration": 185,
    "start_time": "2022-11-03T20:20:19.644Z"
   },
   {
    "duration": 197,
    "start_time": "2022-11-03T20:20:24.633Z"
   },
   {
    "duration": 182,
    "start_time": "2022-11-03T20:20:36.673Z"
   },
   {
    "duration": 286,
    "start_time": "2022-11-03T20:20:42.566Z"
   },
   {
    "duration": 190,
    "start_time": "2022-11-03T20:20:46.443Z"
   },
   {
    "duration": 352,
    "start_time": "2022-11-03T20:20:51.079Z"
   },
   {
    "duration": 9,
    "start_time": "2022-11-03T20:20:55.377Z"
   },
   {
    "duration": 111,
    "start_time": "2022-11-03T20:21:02.207Z"
   },
   {
    "duration": 128,
    "start_time": "2022-11-03T20:21:08.967Z"
   },
   {
    "duration": 200,
    "start_time": "2022-11-03T20:21:52.959Z"
   },
   {
    "duration": 193,
    "start_time": "2022-11-03T20:21:59.538Z"
   },
   {
    "duration": 273,
    "start_time": "2022-11-03T20:22:06.370Z"
   },
   {
    "duration": 211,
    "start_time": "2022-11-03T20:22:10.781Z"
   },
   {
    "duration": 274,
    "start_time": "2022-11-03T20:22:15.457Z"
   },
   {
    "duration": 192,
    "start_time": "2022-11-03T20:23:40.404Z"
   },
   {
    "duration": 199,
    "start_time": "2022-11-03T20:23:54.068Z"
   },
   {
    "duration": 202,
    "start_time": "2022-11-03T20:24:06.116Z"
   },
   {
    "duration": 222,
    "start_time": "2022-11-03T20:24:21.218Z"
   },
   {
    "duration": 296,
    "start_time": "2022-11-03T20:24:49.471Z"
   },
   {
    "duration": 202,
    "start_time": "2022-11-03T20:25:08.728Z"
   },
   {
    "duration": 303,
    "start_time": "2022-11-03T20:25:46.352Z"
   },
   {
    "duration": 286,
    "start_time": "2022-11-03T20:26:17.254Z"
   },
   {
    "duration": 165,
    "start_time": "2022-11-03T20:26:37.191Z"
   },
   {
    "duration": 753,
    "start_time": "2022-11-03T20:32:05.402Z"
   },
   {
    "duration": 829,
    "start_time": "2022-11-03T20:32:14.588Z"
   },
   {
    "duration": 245,
    "start_time": "2022-11-03T20:32:30.530Z"
   },
   {
    "duration": 13,
    "start_time": "2022-11-03T20:35:02.174Z"
   },
   {
    "duration": 3,
    "start_time": "2022-11-03T20:35:09.630Z"
   },
   {
    "duration": 10,
    "start_time": "2022-11-03T20:35:23.609Z"
   },
   {
    "duration": 9,
    "start_time": "2022-11-03T20:36:01.975Z"
   },
   {
    "duration": 197,
    "start_time": "2022-11-03T20:37:30.174Z"
   },
   {
    "duration": 206,
    "start_time": "2022-11-03T20:38:11.831Z"
   },
   {
    "duration": 301,
    "start_time": "2022-11-03T20:38:45.711Z"
   },
   {
    "duration": 76,
    "start_time": "2022-11-03T20:39:27.935Z"
   },
   {
    "duration": 188,
    "start_time": "2022-11-03T20:39:47.207Z"
   },
   {
    "duration": 12,
    "start_time": "2022-11-03T20:40:53.979Z"
   },
   {
    "duration": 11,
    "start_time": "2022-11-03T20:40:57.920Z"
   },
   {
    "duration": 229,
    "start_time": "2022-11-03T20:41:22.935Z"
   },
   {
    "duration": 204,
    "start_time": "2022-11-03T20:41:39.964Z"
   },
   {
    "duration": 182,
    "start_time": "2022-11-03T20:42:06.518Z"
   },
   {
    "duration": 10,
    "start_time": "2022-11-03T20:42:31.701Z"
   },
   {
    "duration": 12,
    "start_time": "2022-11-03T20:42:54.773Z"
   },
   {
    "duration": 226,
    "start_time": "2022-11-03T20:43:48.567Z"
   },
   {
    "duration": 243,
    "start_time": "2022-11-03T20:44:29.062Z"
   },
   {
    "duration": 256,
    "start_time": "2022-11-03T20:44:41.471Z"
   },
   {
    "duration": 271,
    "start_time": "2022-11-03T20:44:50.279Z"
   },
   {
    "duration": 211,
    "start_time": "2022-11-03T20:45:54.063Z"
   },
   {
    "duration": 200,
    "start_time": "2022-11-03T20:46:06.824Z"
   },
   {
    "duration": 168,
    "start_time": "2022-11-03T20:48:15.323Z"
   },
   {
    "duration": 159,
    "start_time": "2022-11-03T20:48:24.736Z"
   },
   {
    "duration": 135,
    "start_time": "2022-11-03T20:48:55.395Z"
   },
   {
    "duration": 197,
    "start_time": "2022-11-03T20:49:18.936Z"
   },
   {
    "duration": 4,
    "start_time": "2022-11-03T20:50:23.384Z"
   },
   {
    "duration": 11,
    "start_time": "2022-11-03T20:50:38.035Z"
   },
   {
    "duration": 227,
    "start_time": "2022-11-03T20:51:22.466Z"
   },
   {
    "duration": 341,
    "start_time": "2022-11-03T20:51:48.462Z"
   },
   {
    "duration": 249,
    "start_time": "2022-11-03T20:51:58.684Z"
   },
   {
    "duration": 266,
    "start_time": "2022-11-03T20:52:18.803Z"
   },
   {
    "duration": 269,
    "start_time": "2022-11-03T20:52:54.122Z"
   },
   {
    "duration": 5,
    "start_time": "2022-11-03T20:54:36.975Z"
   },
   {
    "duration": 192,
    "start_time": "2022-11-03T20:54:48.688Z"
   },
   {
    "duration": 199,
    "start_time": "2022-11-03T20:55:18.066Z"
   },
   {
    "duration": 192,
    "start_time": "2022-11-03T20:56:32.949Z"
   },
   {
    "duration": 214,
    "start_time": "2022-11-03T20:57:06.443Z"
   },
   {
    "duration": 281,
    "start_time": "2022-11-03T20:57:50.899Z"
   },
   {
    "duration": 279,
    "start_time": "2022-11-03T20:59:15.032Z"
   },
   {
    "duration": 222,
    "start_time": "2022-11-03T20:59:20.307Z"
   },
   {
    "duration": 199,
    "start_time": "2022-11-03T20:59:43.605Z"
   },
   {
    "duration": 4,
    "start_time": "2022-11-03T21:00:39.214Z"
   },
   {
    "duration": 6,
    "start_time": "2022-11-03T21:00:56.254Z"
   },
   {
    "duration": 198,
    "start_time": "2022-11-03T21:01:41.885Z"
   },
   {
    "duration": 280,
    "start_time": "2022-11-03T21:01:52.548Z"
   },
   {
    "duration": 4,
    "start_time": "2022-11-03T21:02:33.321Z"
   },
   {
    "duration": 296,
    "start_time": "2022-11-03T21:02:48.828Z"
   },
   {
    "duration": 313,
    "start_time": "2022-11-03T21:06:32.139Z"
   },
   {
    "duration": 447,
    "start_time": "2022-11-03T21:06:58.584Z"
   },
   {
    "duration": 202,
    "start_time": "2022-11-03T21:07:16.221Z"
   },
   {
    "duration": 909,
    "start_time": "2022-11-03T21:09:33.887Z"
   },
   {
    "duration": 199,
    "start_time": "2022-11-03T21:09:55.422Z"
   },
   {
    "duration": 277,
    "start_time": "2022-11-03T21:10:33.947Z"
   },
   {
    "duration": 47,
    "start_time": "2022-11-03T21:10:56.274Z"
   },
   {
    "duration": 899,
    "start_time": "2022-11-03T21:13:21.051Z"
   },
   {
    "duration": 169,
    "start_time": "2022-11-03T21:13:30.530Z"
   },
   {
    "duration": 5,
    "start_time": "2022-11-03T21:14:24.042Z"
   },
   {
    "duration": 11,
    "start_time": "2022-11-03T21:15:30.900Z"
   },
   {
    "duration": 17,
    "start_time": "2022-11-03T21:15:40.647Z"
   },
   {
    "duration": 341,
    "start_time": "2022-11-03T21:17:26.759Z"
   },
   {
    "duration": 126,
    "start_time": "2022-11-03T21:34:09.525Z"
   },
   {
    "duration": 129,
    "start_time": "2022-11-03T21:34:26.912Z"
   },
   {
    "duration": 133,
    "start_time": "2022-11-03T21:36:01.949Z"
   },
   {
    "duration": 14,
    "start_time": "2022-11-03T21:36:26.412Z"
   },
   {
    "duration": 127,
    "start_time": "2022-11-03T21:36:43.464Z"
   },
   {
    "duration": 137,
    "start_time": "2022-11-03T21:36:56.113Z"
   },
   {
    "duration": 116,
    "start_time": "2022-11-03T21:38:18.096Z"
   },
   {
    "duration": 14,
    "start_time": "2022-11-03T21:38:51.602Z"
   },
   {
    "duration": 67,
    "start_time": "2022-11-03T21:39:20.661Z"
   },
   {
    "duration": 24,
    "start_time": "2022-11-03T21:39:23.777Z"
   },
   {
    "duration": 26,
    "start_time": "2022-11-03T21:39:43.275Z"
   },
   {
    "duration": 159,
    "start_time": "2022-11-03T21:40:03.913Z"
   },
   {
    "duration": 28,
    "start_time": "2022-11-03T21:40:27.051Z"
   },
   {
    "duration": 8,
    "start_time": "2022-11-03T21:40:50.296Z"
   },
   {
    "duration": 10,
    "start_time": "2022-11-03T21:46:40.417Z"
   },
   {
    "duration": 9,
    "start_time": "2022-11-03T21:47:15.535Z"
   },
   {
    "duration": 41,
    "start_time": "2022-11-03T21:51:29.630Z"
   },
   {
    "duration": 4,
    "start_time": "2022-11-03T21:52:47.787Z"
   },
   {
    "duration": 5,
    "start_time": "2022-11-03T21:53:09.360Z"
   },
   {
    "duration": 10,
    "start_time": "2022-11-03T21:53:56.175Z"
   },
   {
    "duration": 11,
    "start_time": "2022-11-03T21:54:24.464Z"
   },
   {
    "duration": 10,
    "start_time": "2022-11-03T21:54:29.824Z"
   },
   {
    "duration": 12,
    "start_time": "2022-11-03T21:54:51.422Z"
   },
   {
    "duration": 11,
    "start_time": "2022-11-03T21:55:04.581Z"
   },
   {
    "duration": 45,
    "start_time": "2022-11-03T21:55:20.356Z"
   },
   {
    "duration": 10,
    "start_time": "2022-11-03T21:55:24.581Z"
   },
   {
    "duration": 9,
    "start_time": "2022-11-03T21:55:33.094Z"
   },
   {
    "duration": 8,
    "start_time": "2022-11-03T21:56:23.892Z"
   },
   {
    "duration": 8,
    "start_time": "2022-11-03T21:57:59.620Z"
   },
   {
    "duration": 9,
    "start_time": "2022-11-03T21:59:53.280Z"
   },
   {
    "duration": 4,
    "start_time": "2022-11-03T22:00:12.447Z"
   },
   {
    "duration": 9,
    "start_time": "2022-11-03T22:00:18.225Z"
   },
   {
    "duration": 8,
    "start_time": "2022-11-03T22:00:40.760Z"
   },
   {
    "duration": 123,
    "start_time": "2022-11-03T22:00:58.656Z"
   },
   {
    "duration": 5,
    "start_time": "2022-11-03T22:01:14.091Z"
   },
   {
    "duration": 7,
    "start_time": "2022-11-03T22:02:24.542Z"
   },
   {
    "duration": 7,
    "start_time": "2022-11-03T22:02:57.659Z"
   },
   {
    "duration": 5,
    "start_time": "2022-11-03T22:03:17.853Z"
   },
   {
    "duration": 10,
    "start_time": "2022-11-03T22:03:53.935Z"
   },
   {
    "duration": 6,
    "start_time": "2022-11-03T22:04:03.823Z"
   },
   {
    "duration": 6,
    "start_time": "2022-11-03T22:04:08.652Z"
   },
   {
    "duration": 9,
    "start_time": "2022-11-03T22:04:33.932Z"
   },
   {
    "duration": 8,
    "start_time": "2022-11-03T22:04:40.021Z"
   },
   {
    "duration": 9,
    "start_time": "2022-11-03T22:05:13.525Z"
   },
   {
    "duration": 9,
    "start_time": "2022-11-03T22:06:36.160Z"
   },
   {
    "duration": 45,
    "start_time": "2022-11-03T22:13:22.195Z"
   },
   {
    "duration": 11,
    "start_time": "2022-11-03T22:13:28.311Z"
   },
   {
    "duration": 7,
    "start_time": "2022-11-03T22:22:49.704Z"
   },
   {
    "duration": 12,
    "start_time": "2022-11-03T22:23:05.998Z"
   },
   {
    "duration": 12,
    "start_time": "2022-11-03T22:23:33.784Z"
   },
   {
    "duration": 13,
    "start_time": "2022-11-03T22:26:43.979Z"
   },
   {
    "duration": 41,
    "start_time": "2022-11-03T22:28:14.971Z"
   },
   {
    "duration": 10,
    "start_time": "2022-11-03T22:28:25.217Z"
   },
   {
    "duration": 9,
    "start_time": "2022-11-03T22:30:09.867Z"
   },
   {
    "duration": 8,
    "start_time": "2022-11-03T22:33:46.719Z"
   },
   {
    "duration": 9,
    "start_time": "2022-11-03T22:34:15.183Z"
   },
   {
    "duration": 16,
    "start_time": "2022-11-03T22:34:44.763Z"
   },
   {
    "duration": 8,
    "start_time": "2022-11-03T22:35:05.719Z"
   },
   {
    "duration": 7,
    "start_time": "2022-11-03T22:35:21.147Z"
   },
   {
    "duration": 7,
    "start_time": "2022-11-03T22:35:56.233Z"
   },
   {
    "duration": 49,
    "start_time": "2022-11-03T22:44:13.574Z"
   },
   {
    "duration": 15,
    "start_time": "2022-11-03T22:44:19.781Z"
   },
   {
    "duration": 5,
    "start_time": "2022-11-03T22:44:33.863Z"
   },
   {
    "duration": 6,
    "start_time": "2022-11-03T22:45:33.908Z"
   },
   {
    "duration": 3,
    "start_time": "2022-11-03T22:45:38.696Z"
   },
   {
    "duration": 30,
    "start_time": "2022-11-03T22:45:38.701Z"
   },
   {
    "duration": 8,
    "start_time": "2022-11-03T22:45:38.733Z"
   },
   {
    "duration": 10,
    "start_time": "2022-11-03T22:45:38.742Z"
   },
   {
    "duration": 59,
    "start_time": "2022-11-03T22:45:38.754Z"
   },
   {
    "duration": 18,
    "start_time": "2022-11-03T22:45:38.815Z"
   },
   {
    "duration": 4,
    "start_time": "2022-11-03T22:45:38.835Z"
   },
   {
    "duration": 7,
    "start_time": "2022-11-03T22:45:38.841Z"
   },
   {
    "duration": 21,
    "start_time": "2022-11-03T22:45:38.850Z"
   },
   {
    "duration": 3,
    "start_time": "2022-11-03T22:45:38.873Z"
   },
   {
    "duration": 10,
    "start_time": "2022-11-03T22:45:38.879Z"
   },
   {
    "duration": 8,
    "start_time": "2022-11-03T22:45:38.891Z"
   },
   {
    "duration": 8,
    "start_time": "2022-11-03T22:45:38.900Z"
   },
   {
    "duration": 9,
    "start_time": "2022-11-03T22:45:38.938Z"
   },
   {
    "duration": 7,
    "start_time": "2022-11-03T22:45:38.948Z"
   },
   {
    "duration": 6,
    "start_time": "2022-11-03T22:45:38.957Z"
   },
   {
    "duration": 16,
    "start_time": "2022-11-03T22:45:38.964Z"
   },
   {
    "duration": 20,
    "start_time": "2022-11-03T22:45:38.982Z"
   },
   {
    "duration": 12,
    "start_time": "2022-11-03T22:45:39.004Z"
   },
   {
    "duration": 12,
    "start_time": "2022-11-03T22:45:39.039Z"
   },
   {
    "duration": 335,
    "start_time": "2022-11-03T22:45:39.054Z"
   },
   {
    "duration": 12,
    "start_time": "2022-11-03T22:45:39.390Z"
   },
   {
    "duration": 12,
    "start_time": "2022-11-03T22:45:39.404Z"
   },
   {
    "duration": 227,
    "start_time": "2022-11-03T22:45:39.417Z"
   },
   {
    "duration": 209,
    "start_time": "2022-11-03T22:45:39.646Z"
   },
   {
    "duration": 273,
    "start_time": "2022-11-03T22:45:39.857Z"
   },
   {
    "duration": 5,
    "start_time": "2022-11-03T22:45:40.138Z"
   },
   {
    "duration": 216,
    "start_time": "2022-11-03T22:45:40.145Z"
   },
   {
    "duration": 279,
    "start_time": "2022-11-03T22:45:40.364Z"
   },
   {
    "duration": 9,
    "start_time": "2022-11-03T22:45:40.645Z"
   },
   {
    "duration": 157,
    "start_time": "2022-11-03T22:45:40.656Z"
   },
   {
    "duration": 5,
    "start_time": "2022-11-03T22:45:40.815Z"
   },
   {
    "duration": 150,
    "start_time": "2022-11-03T22:45:40.821Z"
   },
   {
    "duration": 4,
    "start_time": "2022-11-03T22:45:40.972Z"
   },
   {
    "duration": 131,
    "start_time": "2022-11-03T22:45:40.978Z"
   },
   {
    "duration": 7,
    "start_time": "2022-11-03T22:45:41.112Z"
   },
   {
    "duration": 21,
    "start_time": "2022-11-03T22:45:41.121Z"
   },
   {
    "duration": 22,
    "start_time": "2022-11-03T22:45:41.144Z"
   },
   {
    "duration": 5,
    "start_time": "2022-11-03T22:45:41.168Z"
   },
   {
    "duration": 12,
    "start_time": "2022-11-03T22:45:41.175Z"
   },
   {
    "duration": 7,
    "start_time": "2022-11-03T22:45:41.188Z"
   },
   {
    "duration": 43,
    "start_time": "2022-11-03T22:45:41.197Z"
   },
   {
    "duration": 8,
    "start_time": "2022-11-03T22:45:41.241Z"
   },
   {
    "duration": 26,
    "start_time": "2022-11-03T22:45:41.251Z"
   },
   {
    "duration": 4,
    "start_time": "2022-11-03T22:45:41.279Z"
   },
   {
    "duration": 10,
    "start_time": "2022-11-03T22:45:41.285Z"
   },
   {
    "duration": 10,
    "start_time": "2022-11-03T22:45:41.297Z"
   },
   {
    "duration": 9,
    "start_time": "2022-11-03T22:53:41.557Z"
   },
   {
    "duration": 5,
    "start_time": "2022-11-03T22:53:51.137Z"
   },
   {
    "duration": 31,
    "start_time": "2022-11-03T22:53:51.145Z"
   },
   {
    "duration": 9,
    "start_time": "2022-11-03T22:53:51.178Z"
   },
   {
    "duration": 12,
    "start_time": "2022-11-03T22:53:51.188Z"
   },
   {
    "duration": 60,
    "start_time": "2022-11-03T22:53:51.202Z"
   },
   {
    "duration": 20,
    "start_time": "2022-11-03T22:53:51.264Z"
   },
   {
    "duration": 4,
    "start_time": "2022-11-03T22:53:51.286Z"
   },
   {
    "duration": 7,
    "start_time": "2022-11-03T22:53:51.292Z"
   },
   {
    "duration": 24,
    "start_time": "2022-11-03T22:53:51.301Z"
   },
   {
    "duration": 13,
    "start_time": "2022-11-03T22:53:51.326Z"
   },
   {
    "duration": 8,
    "start_time": "2022-11-03T22:53:51.341Z"
   },
   {
    "duration": 7,
    "start_time": "2022-11-03T22:53:51.350Z"
   },
   {
    "duration": 7,
    "start_time": "2022-11-03T22:53:51.360Z"
   },
   {
    "duration": 10,
    "start_time": "2022-11-03T22:53:51.370Z"
   },
   {
    "duration": 7,
    "start_time": "2022-11-03T22:53:51.382Z"
   },
   {
    "duration": 49,
    "start_time": "2022-11-03T22:53:51.391Z"
   },
   {
    "duration": 12,
    "start_time": "2022-11-03T22:53:51.442Z"
   },
   {
    "duration": 18,
    "start_time": "2022-11-03T22:53:51.456Z"
   },
   {
    "duration": 13,
    "start_time": "2022-11-03T22:53:51.516Z"
   },
   {
    "duration": 19,
    "start_time": "2022-11-03T22:53:51.532Z"
   },
   {
    "duration": 342,
    "start_time": "2022-11-03T22:53:51.553Z"
   },
   {
    "duration": 12,
    "start_time": "2022-11-03T22:53:51.896Z"
   },
   {
    "duration": 34,
    "start_time": "2022-11-03T22:53:51.911Z"
   },
   {
    "duration": 216,
    "start_time": "2022-11-03T22:53:51.947Z"
   },
   {
    "duration": 224,
    "start_time": "2022-11-03T22:53:52.165Z"
   },
   {
    "duration": 286,
    "start_time": "2022-11-03T22:53:52.391Z"
   },
   {
    "duration": 5,
    "start_time": "2022-11-03T22:53:52.679Z"
   },
   {
    "duration": 453,
    "start_time": "2022-11-03T22:53:52.686Z"
   },
   {
    "duration": 498,
    "start_time": "2022-11-03T22:53:53.141Z"
   },
   {
    "duration": 11,
    "start_time": "2022-11-03T22:53:53.642Z"
   },
   {
    "duration": 313,
    "start_time": "2022-11-03T22:53:53.656Z"
   },
   {
    "duration": 4,
    "start_time": "2022-11-03T22:53:53.972Z"
   },
   {
    "duration": 363,
    "start_time": "2022-11-03T22:53:53.978Z"
   },
   {
    "duration": 5,
    "start_time": "2022-11-03T22:53:54.343Z"
   },
   {
    "duration": 412,
    "start_time": "2022-11-03T22:53:54.350Z"
   },
   {
    "duration": 6,
    "start_time": "2022-11-03T22:53:54.764Z"
   },
   {
    "duration": 8,
    "start_time": "2022-11-03T22:53:54.772Z"
   },
   {
    "duration": 91,
    "start_time": "2022-11-03T22:53:54.782Z"
   },
   {
    "duration": 6,
    "start_time": "2022-11-03T22:53:54.875Z"
   },
   {
    "duration": 12,
    "start_time": "2022-11-03T22:53:54.883Z"
   },
   {
    "duration": 9,
    "start_time": "2022-11-03T22:53:54.897Z"
   },
   {
    "duration": 12,
    "start_time": "2022-11-03T22:53:54.940Z"
   },
   {
    "duration": 13,
    "start_time": "2022-11-03T22:53:54.954Z"
   },
   {
    "duration": 26,
    "start_time": "2022-11-03T22:53:54.969Z"
   },
   {
    "duration": 4,
    "start_time": "2022-11-03T22:53:54.997Z"
   },
   {
    "duration": 38,
    "start_time": "2022-11-03T22:53:55.003Z"
   },
   {
    "duration": 137,
    "start_time": "2022-11-03T22:53:55.043Z"
   },
   {
    "duration": 24,
    "start_time": "2022-11-03T22:55:13.843Z"
   },
   {
    "duration": 21,
    "start_time": "2022-11-03T22:55:17.833Z"
   },
   {
    "duration": 4,
    "start_time": "2022-11-03T22:56:01.751Z"
   },
   {
    "duration": 4,
    "start_time": "2022-11-03T22:56:37.722Z"
   },
   {
    "duration": 37,
    "start_time": "2022-11-03T22:56:47.780Z"
   },
   {
    "duration": 4,
    "start_time": "2022-11-03T22:57:43.858Z"
   },
   {
    "duration": 24,
    "start_time": "2022-11-03T22:58:00.572Z"
   },
   {
    "duration": 9,
    "start_time": "2022-11-03T22:58:44.860Z"
   },
   {
    "duration": 7,
    "start_time": "2022-11-03T22:59:22.908Z"
   },
   {
    "duration": 15,
    "start_time": "2022-11-03T23:00:05.137Z"
   },
   {
    "duration": 4,
    "start_time": "2022-11-03T23:00:38.356Z"
   },
   {
    "duration": 8,
    "start_time": "2022-11-03T23:00:43.965Z"
   },
   {
    "duration": 4,
    "start_time": "2022-11-03T23:05:58.605Z"
   },
   {
    "duration": 43,
    "start_time": "2022-11-03T23:05:58.611Z"
   },
   {
    "duration": 8,
    "start_time": "2022-11-03T23:05:58.656Z"
   },
   {
    "duration": 8,
    "start_time": "2022-11-03T23:05:58.665Z"
   },
   {
    "duration": 77,
    "start_time": "2022-11-03T23:05:58.676Z"
   },
   {
    "duration": 18,
    "start_time": "2022-11-03T23:05:58.755Z"
   },
   {
    "duration": 5,
    "start_time": "2022-11-03T23:05:58.774Z"
   },
   {
    "duration": 6,
    "start_time": "2022-11-03T23:05:58.781Z"
   },
   {
    "duration": 17,
    "start_time": "2022-11-03T23:05:58.789Z"
   },
   {
    "duration": 7,
    "start_time": "2022-11-03T23:05:58.808Z"
   },
   {
    "duration": 9,
    "start_time": "2022-11-03T23:05:58.841Z"
   },
   {
    "duration": 9,
    "start_time": "2022-11-03T23:05:58.852Z"
   },
   {
    "duration": 6,
    "start_time": "2022-11-03T23:05:58.863Z"
   },
   {
    "duration": 8,
    "start_time": "2022-11-03T23:05:58.871Z"
   },
   {
    "duration": 6,
    "start_time": "2022-11-03T23:05:58.881Z"
   },
   {
    "duration": 10,
    "start_time": "2022-11-03T23:05:58.888Z"
   },
   {
    "duration": 51,
    "start_time": "2022-11-03T23:05:58.900Z"
   },
   {
    "duration": 16,
    "start_time": "2022-11-03T23:05:58.953Z"
   },
   {
    "duration": 12,
    "start_time": "2022-11-03T23:05:58.970Z"
   },
   {
    "duration": 337,
    "start_time": "2022-11-03T23:05:58.984Z"
   },
   {
    "duration": 28,
    "start_time": "2022-11-03T23:05:59.323Z"
   },
   {
    "duration": 16,
    "start_time": "2022-11-03T23:05:59.354Z"
   },
   {
    "duration": 232,
    "start_time": "2022-11-03T23:05:59.372Z"
   },
   {
    "duration": 221,
    "start_time": "2022-11-03T23:05:59.605Z"
   },
   {
    "duration": 338,
    "start_time": "2022-11-03T23:05:59.827Z"
   },
   {
    "duration": 6,
    "start_time": "2022-11-03T23:06:00.167Z"
   },
   {
    "duration": 240,
    "start_time": "2022-11-03T23:06:00.174Z"
   },
   {
    "duration": 346,
    "start_time": "2022-11-03T23:06:00.416Z"
   },
   {
    "duration": 9,
    "start_time": "2022-11-03T23:06:00.765Z"
   },
   {
    "duration": 139,
    "start_time": "2022-11-03T23:06:00.776Z"
   },
   {
    "duration": 4,
    "start_time": "2022-11-03T23:06:00.917Z"
   },
   {
    "duration": 164,
    "start_time": "2022-11-03T23:06:00.922Z"
   },
   {
    "duration": 4,
    "start_time": "2022-11-03T23:06:01.087Z"
   },
   {
    "duration": 144,
    "start_time": "2022-11-03T23:06:01.092Z"
   },
   {
    "duration": 11,
    "start_time": "2022-11-03T23:06:01.237Z"
   },
   {
    "duration": 33,
    "start_time": "2022-11-03T23:06:01.250Z"
   },
   {
    "duration": 42,
    "start_time": "2022-11-03T23:06:01.285Z"
   },
   {
    "duration": 4,
    "start_time": "2022-11-03T23:06:01.329Z"
   },
   {
    "duration": 31,
    "start_time": "2022-11-03T23:06:01.335Z"
   },
   {
    "duration": 8,
    "start_time": "2022-11-03T23:06:01.368Z"
   },
   {
    "duration": 10,
    "start_time": "2022-11-03T23:06:01.377Z"
   },
   {
    "duration": 27,
    "start_time": "2022-11-03T23:06:01.389Z"
   },
   {
    "duration": 30,
    "start_time": "2022-11-03T23:06:01.418Z"
   },
   {
    "duration": 12,
    "start_time": "2022-11-03T23:06:01.450Z"
   },
   {
    "duration": 16,
    "start_time": "2022-11-03T23:06:01.464Z"
   },
   {
    "duration": 8,
    "start_time": "2022-11-03T23:06:01.482Z"
   },
   {
    "duration": 1351,
    "start_time": "2022-11-04T13:32:44.993Z"
   },
   {
    "duration": 61,
    "start_time": "2022-11-04T13:32:46.346Z"
   },
   {
    "duration": 18,
    "start_time": "2022-11-04T13:32:46.409Z"
   },
   {
    "duration": 4,
    "start_time": "2022-11-04T13:32:46.429Z"
   },
   {
    "duration": 135,
    "start_time": "2022-11-04T13:32:46.436Z"
   },
   {
    "duration": 22,
    "start_time": "2022-11-04T13:32:46.573Z"
   },
   {
    "duration": 5,
    "start_time": "2022-11-04T13:32:46.597Z"
   },
   {
    "duration": 9,
    "start_time": "2022-11-04T13:32:46.604Z"
   },
   {
    "duration": 20,
    "start_time": "2022-11-04T13:32:46.615Z"
   },
   {
    "duration": 18,
    "start_time": "2022-11-04T13:32:46.637Z"
   },
   {
    "duration": 21,
    "start_time": "2022-11-04T13:32:46.656Z"
   },
   {
    "duration": 9,
    "start_time": "2022-11-04T13:32:46.680Z"
   },
   {
    "duration": 10,
    "start_time": "2022-11-04T13:32:46.691Z"
   },
   {
    "duration": 15,
    "start_time": "2022-11-04T13:32:46.704Z"
   },
   {
    "duration": 15,
    "start_time": "2022-11-04T13:32:46.720Z"
   },
   {
    "duration": 24,
    "start_time": "2022-11-04T13:32:46.736Z"
   },
   {
    "duration": 11,
    "start_time": "2022-11-04T13:32:46.762Z"
   },
   {
    "duration": 17,
    "start_time": "2022-11-04T13:32:46.774Z"
   },
   {
    "duration": 14,
    "start_time": "2022-11-04T13:32:46.793Z"
   },
   {
    "duration": 352,
    "start_time": "2022-11-04T13:32:46.809Z"
   },
   {
    "duration": 13,
    "start_time": "2022-11-04T13:32:47.163Z"
   },
   {
    "duration": 18,
    "start_time": "2022-11-04T13:32:47.178Z"
   },
   {
    "duration": 314,
    "start_time": "2022-11-04T13:32:47.197Z"
   },
   {
    "duration": 215,
    "start_time": "2022-11-04T13:32:47.513Z"
   },
   {
    "duration": 365,
    "start_time": "2022-11-04T13:32:47.730Z"
   },
   {
    "duration": 5,
    "start_time": "2022-11-04T13:32:48.097Z"
   },
   {
    "duration": 235,
    "start_time": "2022-11-04T13:32:48.104Z"
   },
   {
    "duration": 329,
    "start_time": "2022-11-04T13:32:48.341Z"
   },
   {
    "duration": 12,
    "start_time": "2022-11-04T13:32:48.673Z"
   },
   {
    "duration": 141,
    "start_time": "2022-11-04T13:32:48.687Z"
   },
   {
    "duration": 5,
    "start_time": "2022-11-04T13:32:48.830Z"
   },
   {
    "duration": 155,
    "start_time": "2022-11-04T13:32:48.837Z"
   },
   {
    "duration": 4,
    "start_time": "2022-11-04T13:32:48.994Z"
   },
   {
    "duration": 156,
    "start_time": "2022-11-04T13:32:49.000Z"
   },
   {
    "duration": 6,
    "start_time": "2022-11-04T13:32:49.158Z"
   },
   {
    "duration": 8,
    "start_time": "2022-11-04T13:32:49.165Z"
   },
   {
    "duration": 120,
    "start_time": "2022-11-04T13:32:49.174Z"
   },
   {
    "duration": 5,
    "start_time": "2022-11-04T13:32:49.296Z"
   },
   {
    "duration": 12,
    "start_time": "2022-11-04T13:32:49.302Z"
   },
   {
    "duration": 10,
    "start_time": "2022-11-04T13:32:49.316Z"
   },
   {
    "duration": 29,
    "start_time": "2022-11-04T13:32:49.329Z"
   },
   {
    "duration": 12,
    "start_time": "2022-11-04T13:32:49.359Z"
   },
   {
    "duration": 20,
    "start_time": "2022-11-04T13:32:49.373Z"
   },
   {
    "duration": 4,
    "start_time": "2022-11-04T13:32:49.395Z"
   },
   {
    "duration": 16,
    "start_time": "2022-11-04T13:32:49.401Z"
   },
   {
    "duration": 10,
    "start_time": "2022-11-04T13:32:49.419Z"
   }
  ],
  "kernelspec": {
   "display_name": "Python 3 (ipykernel)",
   "language": "python",
   "name": "python3"
  },
  "language_info": {
   "codemirror_mode": {
    "name": "ipython",
    "version": 3
   },
   "file_extension": ".py",
   "mimetype": "text/x-python",
   "name": "python",
   "nbconvert_exporter": "python",
   "pygments_lexer": "ipython3",
   "version": "3.9.5"
  },
  "toc": {
   "base_numbering": 1,
   "nav_menu": {},
   "number_sections": true,
   "sideBar": true,
   "skip_h1_title": true,
   "title_cell": "Table of Contents",
   "title_sidebar": "Contents",
   "toc_cell": false,
   "toc_position": {},
   "toc_section_display": true,
   "toc_window_display": true
  }
 },
 "nbformat": 4,
 "nbformat_minor": 2
}
